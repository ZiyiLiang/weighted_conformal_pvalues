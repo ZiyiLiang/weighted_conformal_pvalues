{
 "cells": [
  {
   "cell_type": "code",
   "execution_count": 75,
   "id": "3b689240",
   "metadata": {},
   "outputs": [
    {
     "name": "stdout",
     "output_type": "stream",
     "text": [
      "The autoreload extension is already loaded. To reload it, use:\n",
      "  %reload_ext autoreload\n"
     ]
    }
   ],
   "source": [
    "%load_ext autoreload\n",
    "%autoreload 2\n",
    "\n",
    "import matplotlib.pyplot as plt\n",
    "plt.rcParams['figure.figsize'] = [5, 5]\n",
    "\n",
    "import numpy as np\n",
    "import pandas as pd\n",
    "import seaborn as sns\n",
    "import statistics as stats\n",
    "from tqdm import tqdm\n",
    "from tqdm.notebook import tqdm_notebook\n",
    "import pdb\n",
    "import copy\n",
    "\n",
    "import sys\n",
    "import os\n",
    "\n",
    "#########################\n",
    "# Experiment parameters #\n",
    "#########################\n",
    "from sklearn.base import clone\n",
    "from sklearn import svm\n",
    "from sklearn.neural_network import MLPClassifier\n",
    "from sklearn.neighbors import KNeighborsClassifier\n",
    "from sklearn.ensemble import IsolationForest\n",
    "from sklearn.neighbors import LocalOutlierFactor\n",
    "from sklearn.discriminant_analysis import QuadraticDiscriminantAnalysis\n",
    "from sklearn.ensemble import RandomForestClassifier\n",
    "from sklearn.svm import SVC\n",
    "\n",
    "sys.path.append('../third_party')\n",
    "sys.path.append('../methods')"
   ]
  },
  {
   "cell_type": "markdown",
   "id": "b509c1d3",
   "metadata": {},
   "source": [
    "## Data generation"
   ]
  },
  {
   "cell_type": "code",
   "execution_count": 7,
   "id": "d059c277",
   "metadata": {},
   "outputs": [
    {
     "name": "stdout",
     "output_type": "stream",
     "text": [
      "Number of inliers in training/calibration data: 250.\n",
      "Number of outliers in training/calibration data: 250.\n",
      "Number of inliers in test data: 50.\n",
      "Number of outliers in test data: 50.\n"
     ]
    }
   ],
   "source": [
    "from models import GaussianMixture, ConcentricCircles, ConcentricCircles2, ConcentricCirclesMixture, BinomialModel\n",
    "\n",
    "random_state = 2022\n",
    "\n",
    "model_name = \"circles-mix\"\n",
    "\n",
    "if model_name == \"GaussianMixture\":\n",
    "    p = 20        # Number of features\n",
    "    a = 0.25         # Signal amplitude\n",
    "    model = GaussianMixture(p, a, random_state=random_state)\n",
    "    purity = 0.8    # Proportion of inliers\n",
    "    n = 1000          # Number of observations\n",
    "    \n",
    "elif model_name == \"circles-mix\":\n",
    "    p = 1000        # Number of features\n",
    "    a = 0.5        # Signal amplitude\n",
    "    model = ConcentricCirclesMixture(p, a, random_state=random_state)\n",
    "    purity = 0.5      # Proportion of inliers\n",
    "    n = 500          # Number of observations\n",
    "\n",
    "elif model_name == \"circles\":\n",
    "    p = 1000        # Number of features\n",
    "    a = 0.99        # Signal amplitude\n",
    "    model = ConcentricCircles(p, a, random_state=random_state)\n",
    "    purity = 0.9      # Proportion of inliers\n",
    "    n = 1000          # Number of observations\n",
    "    \n",
    "elif model_name == \"BinomialModel\":\n",
    "    p = 100        # Number of features\n",
    "    a = 3          # Signal amplitude\n",
    "    model = BinomialModel(p, a, random_state=random_state)\n",
    "    purity = 0.9     # Proportion of inliers\n",
    "    n = 1000          # Number of observations\n",
    "    \n",
    "else:\n",
    "    print(\"Error: unknown model name!\")\n",
    "    \n",
    "    \n",
    "n_test = 100     # Number of test points\n",
    "purity_test = 0.5 # Proportion of inliers in test set\n",
    "\n",
    "X, Y = model.sample(n, purity)\n",
    "X_test, Y_test = model.sample(n_test, purity)\n",
    "\n",
    "print(\"Number of inliers in training/calibration data: {}.\".format(np.sum(Y==0)))\n",
    "print(\"Number of outliers in training/calibration data: {}.\".format(np.sum(Y==1)))\n",
    "\n",
    "print(\"Number of inliers in test data: {}.\".format(np.sum(Y_test==0)))\n",
    "print(\"Number of outliers in test data: {}.\".format(np.sum(Y_test==1)))"
   ]
  },
  {
   "cell_type": "markdown",
   "id": "5f294dde",
   "metadata": {},
   "source": [
    "## Conformal p-values via one-class classification"
   ]
  },
  {
   "cell_type": "code",
   "execution_count": 8,
   "id": "eee0fed0",
   "metadata": {},
   "outputs": [],
   "source": [
    "# Define list of possible one-class classifiers with desired hyper-parameters\n",
    "bbox_occ_list = [svm.OneClassSVM(kernel='rbf', degree=3),\n",
    "                 svm.OneClassSVM(kernel='sigmoid', degree=3),\n",
    "                 svm.OneClassSVM(kernel='poly', degree=3),\n",
    "                 IsolationForest(contamination = 'auto', random_state=random_state),\n",
    "                 LocalOutlierFactor(contamination='auto', novelty=True)\n",
    "               ]\n",
    "\n",
    "# Choose a one-class classifier algorithm\n",
    "bbox_occ = bbox_occ_list[0]"
   ]
  },
  {
   "cell_type": "code",
   "execution_count": 9,
   "id": "d5998345",
   "metadata": {},
   "outputs": [
    {
     "name": "stdout",
     "output_type": "stream",
     "text": [
      "Fitting the black-box model on 125 data points... done.\n",
      "Calculating conformity scores for 125 hold-out data points... done.\n",
      "Calculating conformity scores for 100 test points... done.\n"
     ]
    },
    {
     "data": {
      "image/png": "[encoded data removed]",
      "text/plain": [
       "<Figure size 504x216 with 2 Axes>"
      ]
     },
     "metadata": {
      "needs_background": "light"
     },
     "output_type": "display_data"
    }
   ],
   "source": [
    "from methods_split import OneClassConformal\n",
    "\n",
    "# Extract the inliers from the data\n",
    "X_in = X[Y==0]\n",
    "\n",
    "# Compute the p-values\n",
    "method_oneclass = OneClassConformal(X_in, bbox_occ, calib_size=0.5)\n",
    "pvals_oneclass = method_oneclass.compute_pvalues(X_test)\n",
    "\n",
    "## Plot the p-values\n",
    "fig, axs = plt.subplots(1,2, figsize=(7,3))\n",
    "fig.tight_layout()\n",
    "plt.subplots_adjust(wspace=0.3)\n",
    "axs[0].hist(pvals_oneclass[Y_test==0], color=\"blue\")\n",
    "axs[1].hist(pvals_oneclass[Y_test==1], color=\"red\")  \n",
    "axs[0].title.set_text('Inliers')\n",
    "axs[1].title.set_text('Outliers')\n",
    "axs[0].set_xlim(0,1)\n",
    "axs[1].set_xlim(0,1)\n",
    "plt.show()"
   ]
  },
  {
   "cell_type": "markdown",
   "id": "86990667",
   "metadata": {},
   "source": [
    "## Conformal p-values via weighted one-class classification"
   ]
  },
  {
   "cell_type": "code",
   "execution_count": 10,
   "id": "2f4f40b1",
   "metadata": {},
   "outputs": [
    {
     "name": "stdout",
     "output_type": "stream",
     "text": [
      "Fitting a one-class classification model on 125 data points... done.\n",
      "Fitting a one-class classification model on 125 data points... done.\n"
     ]
    },
    {
     "name": "stderr",
     "output_type": "stream",
     "text": [
      "100%|██████████| 100/100 [00:00<00:00, 1368.94it/s]\n"
     ]
    },
    {
     "data": {
      "image/png": "[encoded data removed]",
      "text/plain": [
       "<Figure size 504x216 with 2 Axes>"
      ]
     },
     "metadata": {
      "needs_background": "light"
     },
     "output_type": "display_data"
    },
    {
     "data": {
      "image/png": "[encoded data removed]",
      "text/plain": [
       "<Figure size 504x432 with 4 Axes>"
      ]
     },
     "metadata": {
      "needs_background": "light"
     },
     "output_type": "display_data"
    },
    {
     "data": {
      "text/plain": [
       "0.056666666666666664"
      ]
     },
     "execution_count": 10,
     "metadata": {},
     "output_type": "execute_result"
    }
   ],
   "source": [
    "from methods_split import IntegrativeConformal\n",
    "from sklearn.linear_model import SGDOneClassSVM\n",
    "\n",
    "# Extract the inliers from the data\n",
    "X_in = X[Y==0]\n",
    "X_out = X[Y==1]\n",
    "\n",
    "# Choose a family of one-class classifiers\n",
    "bboxes_one_in = [svm.OneClassSVM(kernel='rbf', gamma=0.001)\n",
    "               ]\n",
    "bboxes_one_out = [svm.OneClassSVM(kernel='rbf', gamma=0.001)\n",
    "                ] \n",
    "\n",
    "# Compute the p-values\n",
    "method_woc = IntegrativeConformal(X_in, X_out, bboxes_one=bboxes_one_in, bboxes_one_out=bboxes_one_out,\n",
    "                                       calib_size=0.5, tuning=True)\n",
    "pvals_woneclass, pvals_woneclass_0, pvals_woneclass_1 = method_woc.compute_pvalues(X_test, return_prepvals=True)\n",
    "\n",
    "## Plot the p-values\n",
    "fig, axs = plt.subplots(1,2, figsize=(7,3))\n",
    "fig.tight_layout()\n",
    "plt.subplots_adjust(wspace=0.3)\n",
    "axs[0].hist(pvals_woneclass[Y_test==0], color=\"blue\")\n",
    "axs[1].hist(pvals_woneclass[Y_test==1], color=\"red\")  \n",
    "axs[0].title.set_text('Inliers')\n",
    "axs[1].title.set_text('Outliers')\n",
    "axs[0].set_xlim(0,1)\n",
    "axs[1].set_xlim(0,1)\n",
    "plt.show()\n",
    "\n",
    "## Plot the preliminary p-values\n",
    "fig, axs = plt.subplots(2,2, figsize=(7,6))\n",
    "fig.tight_layout()\n",
    "plt.subplots_adjust(wspace=0.3)\n",
    "axs[0,0].hist(pvals_woneclass_0[Y_test==0], color=\"blue\")\n",
    "axs[0,1].hist(pvals_woneclass_0[Y_test==1], color=\"red\")  \n",
    "axs[1,0].hist(pvals_woneclass_1[Y_test==0], color=\"red\")\n",
    "axs[1,1].hist(pvals_woneclass_1[Y_test==1], color=\"blue\")  \n",
    "axs[0,0].title.set_text('H0: Inliers')\n",
    "axs[0,1].title.set_text('H0: Outliers')\n",
    "axs[1,0].title.set_text('H1: Inliers')\n",
    "axs[1,1].title.set_text('H1: Outliers')\n",
    "axs[0,0].set_xlim(0,1)\n",
    "axs[0,1].set_xlim(0,1)\n",
    "axs[1,0].set_xlim(0,1)\n",
    "axs[1,1].set_xlim(0,1)\n",
    "plt.show()\n",
    "\n",
    "np.mean(pvals_woneclass[Y_test==1])"
   ]
  },
  {
   "cell_type": "markdown",
   "id": "0d995111",
   "metadata": {},
   "source": [
    "## Measure correlation"
   ]
  },
  {
   "cell_type": "code",
   "execution_count": 145,
   "id": "a921f325",
   "metadata": {},
   "outputs": [],
   "source": [
    "# Choose a family of one-class classifiers\n",
    "bbox_occ_list = {'SVM-rbf':svm.OneClassSVM(kernel='rbf', degree=3),\n",
    "                 'SVM-sig':svm.OneClassSVM(kernel='sigmoid', degree=3),\n",
    "                 'SVM-poly':svm.OneClassSVM(kernel='poly', degree=3)\n",
    "                }\n",
    "\n",
    "\n",
    "p = 1000        # Number of features\n",
    "a = 0.7        # Signal amplitude\n",
    "purity = 0.5      # Proportion of inliers\n",
    "n = 200          # Number of observations\n",
    "    \n",
    "n_test = 2      # Size of test set\n",
    "purity_test = 0.5 # Proportion of inliers in test set\n",
    "\n",
    "model = BinomialModel(p, a, random_state=0)\n",
    "offset = model.calculate_offset(purity)\n",
    "\n",
    "def measure_correlation(n, random_state):\n",
    "    model = BinomialModel(p, a, random_state=random_state)\n",
    "    X, Y = model.sample(n, purity, offset=offset)\n",
    "    X_test, Y_test = model.sample(n_test, 1, offset=offset)\n",
    "\n",
    "    # Extract the inliers from the data\n",
    "    X_in = X[Y==0]\n",
    "    X_out = X[Y==1]\n",
    "\n",
    "    # Compute the OCC p-values\n",
    "    method_occ = OneClassConformal(X_in, bbox_occ_list['SVM-rbf'], calib_size=0.5, verbose=False)\n",
    "    pvals_occ = method_occ.compute_pvalues(X_test)\n",
    "    \n",
    "    # Compute the integrative p-values\n",
    "    method_int = IntegrativeConformal(X_in, X_out, \n",
    "                                      bboxes_one=list(bbox_occ_list.values()), \n",
    "                                      bboxes_one_out=list(bbox_occ_list.values()),\n",
    "                                      calib_size=0.5, verbose=False, progress=False, tuning=True)\n",
    "    pvals_int = method_int.compute_pvalues(X_test)\n",
    "    return pvals_int, pvals_occ"
   ]
  },
  {
   "cell_type": "code",
   "execution_count": 146,
   "id": "88d8d7dd",
   "metadata": {},
   "outputs": [
    {
     "data": {
      "application/vnd.jupyter.widget-view+json": {
       "model_id": "384a5154ef4a46a585717958d7d4dfec",
       "version_major": 2,
       "version_minor": 0
      },
      "text/plain": [
       "  0%|          | 0/3 [00:00<?, ?it/s]"
      ]
     },
     "metadata": {},
     "output_type": "display_data"
    },
    {
     "data": {
      "application/vnd.jupyter.widget-view+json": {
       "model_id": "505bb1fde6834b5a970997c762e17cf5",
       "version_major": 2,
       "version_minor": 0
      },
      "text/plain": [
       "  0%|          | 0/1000 [00:00<?, ?it/s]"
      ]
     },
     "metadata": {},
     "output_type": "display_data"
    },
    {
     "data": {
      "application/vnd.jupyter.widget-view+json": {
       "model_id": "baff2224313645c0ae8027cc6831f905",
       "version_major": 2,
       "version_minor": 0
      },
      "text/plain": [
       "  0%|          | 0/1000 [00:00<?, ?it/s]"
      ]
     },
     "metadata": {},
     "output_type": "display_data"
    },
    {
     "data": {
      "application/vnd.jupyter.widget-view+json": {
       "model_id": "b25e89b8a458405d896973065496b972",
       "version_major": 2,
       "version_minor": 0
      },
      "text/plain": [
       "  0%|          | 0/1000 [00:00<?, ?it/s]"
      ]
     },
     "metadata": {},
     "output_type": "display_data"
    }
   ],
   "source": [
    "n_seq = np.array([20,50,100])\n",
    "corr_seq_int = -np.ones((len(n_seq),))\n",
    "corr_seq_occ = -np.ones((len(n_seq),))\n",
    "num_rep = 1000\n",
    "\n",
    "for i in tqdm_notebook(range(len(n_seq))):\n",
    "    n = n_seq[i]\n",
    "    P_vals_int = np.zeros((num_rep, n_test))\n",
    "    P_vals_occ = np.zeros((num_rep, n_test))\n",
    "    for r in tqdm_notebook(range(num_rep)):\n",
    "        P_vals_int[r], P_vals_occ[r] = measure_correlation(n, r)\n",
    "    P_cov_int = np.corrcoef(P_vals_int.T)\n",
    "    P_cov_occ = np.corrcoef(P_vals_occ.T)\n",
    "    corr_seq_int[i] = P_cov_int[0,1]\n",
    "    corr_seq_occ[i] = P_cov_occ[0,1]"
   ]
  },
  {
   "cell_type": "code",
   "execution_count": 117,
   "id": "69ce989d",
   "metadata": {},
   "outputs": [
    {
     "data": {
      "image/png": "[encoded data removed]",
      "text/plain": [
       "<Figure size 360x360 with 1 Axes>"
      ]
     },
     "metadata": {
      "needs_background": "light"
     },
     "output_type": "display_data"
    }
   ],
   "source": [
    "n_seq = np.array([10,20,50,100])\n",
    "corr_seq_theory = 1.0/(purity*0.5*n_seq+2)\n",
    "\n",
    "plt.plot(n_seq, corr_seq_theory, color=\"Black\", label=\"Theory\", linestyle=\"dashed\")\n",
    "plt.scatter(n_seq, corr_seq_int, color=\"Red\")\n",
    "plt.plot(n_seq, corr_seq_int, color=\"Red\", label=\"Integrative\")\n",
    "plt.scatter(n_seq, corr_seq_occ, color=\"Blue\")\n",
    "plt.plot(n_seq, corr_seq_occ, color=\"Blue\", label=\"OCC\")\n",
    "plt.legend()\n",
    "plt.show()"
   ]
  },
  {
   "cell_type": "code",
   "execution_count": 96,
   "id": "b530c471",
   "metadata": {},
   "outputs": [
    {
     "data": {
      "text/plain": [
       "array([ 0.35321721,  0.17907975,  0.18733784,  0.18167654, -0.0172817 ,\n",
       "       -0.09226477])"
      ]
     },
     "execution_count": 96,
     "metadata": {},
     "output_type": "execute_result"
    }
   ],
   "source": [
    "corr_seq_int"
   ]
  },
  {
   "cell_type": "code",
   "execution_count": null,
   "id": "d3746a89",
   "metadata": {},
   "outputs": [],
   "source": []
  }
 ],
 "metadata": {
  "kernelspec": {
   "display_name": "Python 3",
   "language": "python",
   "name": "python3"
  },
  "language_info": {
   "codemirror_mode": {
    "name": "ipython",
    "version": 3
   },
   "file_extension": ".py",
   "mimetype": "text/x-python",
   "name": "python",
   "nbconvert_exporter": "python",
   "pygments_lexer": "ipython3",
   "version": "3.8.10"
  }
 },
 "nbformat": 4,
 "nbformat_minor": 5
}
