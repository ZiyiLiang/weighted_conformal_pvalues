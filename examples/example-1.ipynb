{
 "cells": [
  {
   "cell_type": "code",
   "execution_count": 1,
   "id": "291388e9",
   "metadata": {},
   "outputs": [],
   "source": [
    "%load_ext autoreload\n",
    "%autoreload 2\n",
    "\n",
    "import numpy as np\n",
    "import pandas as pd\n",
    "import seaborn as sns\n",
    "import statistics as stats\n",
    "import matplotlib.pyplot as plt\n",
    "from tqdm import tqdm\n",
    "import pdb\n",
    "\n",
    "import sys\n",
    "import os\n",
    "\n",
    "#########################\n",
    "# Experiment parameters #\n",
    "#########################\n",
    "from sklearn.base import clone\n",
    "from sklearn import svm\n",
    "from sklearn.neural_network import MLPClassifier\n",
    "from sklearn.neighbors import KNeighborsClassifier\n",
    "from sklearn.ensemble import IsolationForest\n",
    "from sklearn.neighbors import LocalOutlierFactor\n",
    "from sklearn.discriminant_analysis import QuadraticDiscriminantAnalysis\n",
    "from sklearn.ensemble import RandomForestClassifier\n",
    "from sklearn.svm import SVC\n",
    "\n",
    "\n",
    "sys.path.append('../third_party')\n",
    "sys.path.append('../methods')\n",
    "from methods_experiment import oc, bc, clra"
   ]
  },
  {
   "cell_type": "markdown",
   "id": "780d64de",
   "metadata": {},
   "source": [
    "## Data generation"
   ]
  },
  {
   "cell_type": "code",
   "execution_count": 2,
   "id": "56966757",
   "metadata": {},
   "outputs": [
    {
     "name": "stdout",
     "output_type": "stream",
     "text": [
      "Number of inliers in training/calibration data: 1800.\n",
      "Number of outliers in training/calibration data: 200.\n",
      "Number of inliers in test data: 1800.\n",
      "Number of outliers in test data: 200.\n"
     ]
    }
   ],
   "source": [
    "from models import ToyModel\n",
    "\n",
    "random_state = 2021\n",
    "\n",
    "p = 50        # Number of features\n",
    "a = 3         # Signal amplitude\n",
    "\n",
    "model = ToyModel(p, a, random_state=random_state)\n",
    "\n",
    "n = 2000      # Number of observations\n",
    "purity = 0.9  # Proportion of inliers\n",
    "\n",
    "X, Y = model.sample(n, purity=purity)\n",
    "X_test, Y_test = model.sample(n, purity=purity)\n",
    "\n",
    "print(\"Number of inliers in training/calibration data: {}.\".format(np.sum(Y==0)))\n",
    "print(\"Number of outliers in training/calibration data: {}.\".format(np.sum(Y==1)))\n",
    "\n",
    "print(\"Number of inliers in test data: {}.\".format(np.sum(Y_test==0)))\n",
    "print(\"Number of outliers in test data: {}.\".format(np.sum(Y_test==1)))"
   ]
  },
  {
   "cell_type": "code",
   "execution_count": 3,
   "id": "28232101",
   "metadata": {},
   "outputs": [
    {
     "data": {
      "image/png": "[encoded data removed]",
      "text/plain": [
       "<Figure size 504x216 with 2 Axes>"
      ]
     },
     "metadata": {
      "needs_background": "light"
     },
     "output_type": "display_data"
    }
   ],
   "source": [
    "## Perform nonlinear PCA on an independent set of clean data\n",
    "from sklearn.decomposition import KernelPCA\n",
    "\n",
    "X_clean, _ = model.sample(n, purity=1)\n",
    "\n",
    "pca = KernelPCA(kernel=\"rbf\", n_components=2, gamma=0.01)\n",
    "pca.fit(X_clean)\n",
    "\n",
    "## Apply the nonlinear PCA separately to the inliers and outliers\n",
    "X_in = X[Y==0]\n",
    "pcs_in = pca.transform(X_in)\n",
    "\n",
    "X_out = X[Y==1]\n",
    "pcs_out = pca.transform(X_out)\n",
    "\n",
    "## Plot the PCA results\n",
    "fig, axs = plt.subplots(1,2, figsize=(7,3))\n",
    "fig.tight_layout()\n",
    "plt.subplots_adjust(wspace=0.3)\n",
    "axs[0].scatter(pcs_in[:,0], pcs_in[:,1], alpha=0.1, color=\"blue\")\n",
    "axs[1].scatter(pcs_out[:,0], pcs_out[:,1], alpha=0.1, color=\"red\")  \n",
    "axs[0].set_xlim(-0.5,0.5)\n",
    "axs[1].set_xlim(-0.5,0.5)\n",
    "axs[0].set_ylim(-0.5,0.5)\n",
    "axs[1].set_ylim(-0.5,0.5)\n",
    "axs[0].set_xlabel(\"First PC\")\n",
    "axs[0].set_ylabel(\"Second PC\")\n",
    "axs[1].set_xlabel(\"First PC\")\n",
    "axs[1].set_ylabel(\"Second PC\")\n",
    "axs[0].title.set_text('Inliers')\n",
    "axs[1].title.set_text('Outliers')\n",
    "plt.show()"
   ]
  },
  {
   "cell_type": "markdown",
   "id": "3e872d62",
   "metadata": {},
   "source": [
    "## Conformal p-values via one-class classification"
   ]
  },
  {
   "cell_type": "code",
   "execution_count": 4,
   "id": "0f171cf0",
   "metadata": {},
   "outputs": [],
   "source": [
    "# Choose a one-class classifier algorithm\n",
    "method_oneclass = \"IForest\"\n",
    "\n",
    "# Initialize the one-class classifier with desired hyper-parameters\n",
    "if method_oneclass == \"SVM\":\n",
    "    bbox_occ = svm.OneClassSVM(nu=contamination, kernel=\"rbf\", gamma=0.1)\n",
    "if method_oneclass == \"IForest\":\n",
    "    contamination = 0.001\n",
    "    contamination = min(max(contamination,0.004),0.1)\n",
    "    bbox_occ = IsolationForest(random_state=random_state, contamination=contamination)\n",
    "if method_oneclass == \"Neighbors\":\n",
    "    contamination = 0.001\n",
    "    contamination = min(max(contamination,0.004),0.1)\n",
    "    bbox_occ = LocalOutlierFactor(novelty=True, contamination=contamination)"
   ]
  },
  {
   "cell_type": "code",
   "execution_count": 5,
   "id": "56817129",
   "metadata": {},
   "outputs": [
    {
     "name": "stdout",
     "output_type": "stream",
     "text": [
      "Fitting the black-box model on 900 data points... done.\n",
      "Calculating conformity scores for 900 data points... done.\n",
      "Calculating conformity scores for 2000 test points... done.\n"
     ]
    }
   ],
   "source": [
    "from methods import OneClassConformal\n",
    "\n",
    "# Extract the inliers from the data\n",
    "X_in = X[Y==0]\n",
    "\n",
    "# Compute the p-values\n",
    "method_oneclass = OneClassConformal(X_in, bbox_occ, calib_size=0.5)\n",
    "pvals_oneclass = method_oneclass.compute_pvalues(X_test)"
   ]
  },
  {
   "cell_type": "code",
   "execution_count": 6,
   "id": "80cb198f",
   "metadata": {},
   "outputs": [
    {
     "data": {
      "image/png": "[encoded data removed]",
      "text/plain": [
       "<Figure size 504x216 with 2 Axes>"
      ]
     },
     "metadata": {
      "needs_background": "light"
     },
     "output_type": "display_data"
    }
   ],
   "source": [
    "## Plot the p-values\n",
    "fig, axs = plt.subplots(1,2, figsize=(7,3))\n",
    "fig.tight_layout()\n",
    "plt.subplots_adjust(wspace=0.3)\n",
    "axs[0].hist(pvals_oneclass[Y_test==0], color=\"blue\")\n",
    "axs[1].hist(pvals_oneclass[Y_test==1], color=\"red\")  \n",
    "axs[0].title.set_text('Inliers')\n",
    "axs[1].title.set_text('Outliers')\n",
    "plt.show()"
   ]
  },
  {
   "cell_type": "code",
   "execution_count": null,
   "id": "b31d1494",
   "metadata": {},
   "outputs": [],
   "source": []
  }
 ],
 "metadata": {
  "kernelspec": {
   "display_name": "Python 3",
   "language": "python",
   "name": "python3"
  },
  "language_info": {
   "codemirror_mode": {
    "name": "ipython",
    "version": 3
   },
   "file_extension": ".py",
   "mimetype": "text/x-python",
   "name": "python",
   "nbconvert_exporter": "python",
   "pygments_lexer": "ipython3",
   "version": "3.8.10"
  }
 },
 "nbformat": 4,
 "nbformat_minor": 5
}
