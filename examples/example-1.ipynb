{
 "cells": [
  {
   "cell_type": "code",
   "execution_count": 29,
   "id": "df4c9b00",
   "metadata": {},
   "outputs": [
    {
     "name": "stdout",
     "output_type": "stream",
     "text": [
      "The autoreload extension is already loaded. To reload it, use:\n",
      "  %reload_ext autoreload\n"
     ]
    }
   ],
   "source": [
    "%load_ext autoreload\n",
    "%autoreload 2\n",
    "\n",
    "import matplotlib.pyplot as plt\n",
    "plt.rcParams['figure.figsize'] = [5, 5]\n",
    "\n",
    "import numpy as np\n",
    "import pandas as pd\n",
    "import seaborn as sns\n",
    "import statistics as stats\n",
    "from tqdm import tqdm\n",
    "import pdb\n",
    "import copy\n",
    "\n",
    "import sys\n",
    "import os\n",
    "\n",
    "#########################\n",
    "# Experiment parameters #\n",
    "#########################\n",
    "from sklearn.base import clone\n",
    "from sklearn import svm\n",
    "from sklearn.neural_network import MLPClassifier\n",
    "from sklearn.neighbors import KNeighborsClassifier\n",
    "from sklearn.ensemble import IsolationForest\n",
    "from sklearn.neighbors import LocalOutlierFactor\n",
    "from sklearn.discriminant_analysis import QuadraticDiscriminantAnalysis\n",
    "from sklearn.ensemble import RandomForestClassifier\n",
    "from sklearn.svm import SVC\n",
    "\n",
    "sys.path.append('../third_party')\n",
    "sys.path.append('../methods')"
   ]
  },
  {
   "cell_type": "markdown",
   "id": "28a5634b",
   "metadata": {},
   "source": [
    "## Data generation"
   ]
  },
  {
   "cell_type": "code",
   "execution_count": 30,
   "id": "0423219e",
   "metadata": {},
   "outputs": [
    {
     "name": "stdout",
     "output_type": "stream",
     "text": [
      "Number of inliers in training/calibration data: 50.\n",
      "Number of outliers in training/calibration data: 50.\n",
      "Number of inliers in test data: 1000.\n",
      "Number of outliers in test data: 1000.\n"
     ]
    }
   ],
   "source": [
    "from models import GaussianMixture, ConcentricCircles, ConcentricCircles2, ConcentricCirclesMixture, BinomialModel\n",
    "\n",
    "random_state = 2022\n",
    "\n",
    "model_name = \"circles\"\n",
    "\n",
    "if model_name == \"GaussianMixture\":\n",
    "    p = 20        # Number of features\n",
    "    a = 0.25         # Signal amplitude\n",
    "    model = GaussianMixture(p, a, random_state=random_state)\n",
    "    purity = 0.8    # Proportion of inliers\n",
    "    n = 1000          # Number of observations\n",
    "    \n",
    "elif model_name == \"circles\":\n",
    "    p = 1000        # Number of features\n",
    "    a = 0.7        # Signal amplitude\n",
    "    model = ConcentricCirclesMixture(p, a, random_state=random_state)\n",
    "    purity = 0.5      # Proportion of inliers\n",
    "    n = 100          # Number of observations\n",
    "\n",
    "elif model_name == \"BinomialModel\":\n",
    "    p = 100        # Number of features\n",
    "    a = 3          # Signal amplitude\n",
    "    model = BinomialModel(p, a, random_state=random_state)\n",
    "    purity = 0.9     # Proportion of inliers\n",
    "    n = 1000          # Number of observations\n",
    "    \n",
    "else:\n",
    "    print(\"Error: unknown model name!\")\n",
    "    \n",
    "    \n",
    "n_test = 2000     # Number of test points\n",
    "purity_test = 0.5 # Proportion of inliers in test set\n",
    "\n",
    "X, Y = model.sample(n, purity)\n",
    "X_test, Y_test = model.sample(n_test, purity)\n",
    "\n",
    "print(\"Number of inliers in training/calibration data: {}.\".format(np.sum(Y==0)))\n",
    "print(\"Number of outliers in training/calibration data: {}.\".format(np.sum(Y==1)))\n",
    "\n",
    "print(\"Number of inliers in test data: {}.\".format(np.sum(Y_test==0)))\n",
    "print(\"Number of outliers in test data: {}.\".format(np.sum(Y_test==1)))"
   ]
  },
  {
   "cell_type": "code",
   "execution_count": 31,
   "id": "2064b103",
   "metadata": {},
   "outputs": [
    {
     "data": {
      "image/png": "[encoded data removed]",
      "text/plain": [
       "<Figure size 504x216 with 2 Axes>"
      ]
     },
     "metadata": {
      "needs_background": "light"
     },
     "output_type": "display_data"
    }
   ],
   "source": [
    "## Perform nonlinear PCA on an independent set of clean data\n",
    "from sklearn.decomposition import KernelPCA\n",
    "\n",
    "X_clean, _ = model.sample(n, purity=1)\n",
    "\n",
    "pca = KernelPCA(kernel=\"rbf\", n_components=2, gamma=0.01)\n",
    "pca.fit(X_clean)\n",
    "\n",
    "## Apply the nonlinear PCA separately to the inliers and outliers\n",
    "X_in = X[Y==0]\n",
    "pcs_in = pca.transform(X_in)\n",
    "\n",
    "X_out = X[Y==1]\n",
    "pcs_out = pca.transform(X_out)\n",
    "\n",
    "## Plot the PCA results\n",
    "fig, axs = plt.subplots(1,2, figsize=(7,3))\n",
    "fig.tight_layout()\n",
    "plt.subplots_adjust(wspace=0.3)\n",
    "axs[0].scatter(pcs_in[:,0], pcs_in[:,1], alpha=0.1, color=\"blue\")\n",
    "axs[1].scatter(pcs_out[:,0], pcs_out[:,1], alpha=0.1, color=\"red\")  \n",
    "#axs[0].set_xlim(-0.5,0.5)\n",
    "#axs[1].set_xlim(-0.5,0.5)\n",
    "#axs[0].set_ylim(-0.5,0.5)\n",
    "#axs[1].set_ylim(-0.5,0.5)\n",
    "axs[0].set_xlabel(\"First PC\")\n",
    "axs[0].set_ylabel(\"Second PC\")\n",
    "axs[1].set_xlabel(\"First PC\")\n",
    "axs[1].set_ylabel(\"Second PC\")\n",
    "axs[0].title.set_text('Inliers')\n",
    "axs[1].title.set_text('Outliers')\n",
    "plt.show()"
   ]
  },
  {
   "cell_type": "markdown",
   "id": "07c9befb",
   "metadata": {},
   "source": [
    "## Conformal p-values via binary classification"
   ]
  },
  {
   "cell_type": "code",
   "execution_count": 32,
   "id": "f2fa9682",
   "metadata": {},
   "outputs": [],
   "source": [
    "from sklearn.ensemble import RandomForestClassifier \n",
    "from sklearn.neighbors import KNeighborsClassifier\n",
    "from sklearn.svm import SVC\n",
    "from sklearn.discriminant_analysis import QuadraticDiscriminantAnalysis\n",
    "from sklearn.naive_bayes import GaussianNB\n",
    "from sklearn.neural_network import MLPClassifier\n",
    "\n",
    "# Define list of possible two-class classifiers with desired hyper-parameters\n",
    "bbox_bc_list = [RandomForestClassifier(random_state=random_state),\n",
    "                KNeighborsClassifier(),\n",
    "                SVC(probability=True),\n",
    "                GaussianNB(),\n",
    "                QuadraticDiscriminantAnalysis(),   \n",
    "                MLPClassifier(max_iter=500, random_state=random_state) \n",
    "               ]\n",
    "\n",
    "# Choose a binary classifier algorithm\n",
    "bbox_bc = bbox_bc_list[5]"
   ]
  },
  {
   "cell_type": "code",
   "execution_count": 33,
   "id": "c7451d9b",
   "metadata": {},
   "outputs": [
    {
     "name": "stdout",
     "output_type": "stream",
     "text": [
      "Fitting the black-box model on 25 inliers and 50 outliers... done.\n",
      "Calculating conformity scores for 25 hold-out inliers... done.\n",
      "Calculating conformity scores for 2000 test points... done.\n"
     ]
    },
    {
     "data": {
      "image/png": "[encoded data removed]",
      "text/plain": [
       "<Figure size 504x216 with 2 Axes>"
      ]
     },
     "metadata": {
      "needs_background": "light"
     },
     "output_type": "display_data"
    }
   ],
   "source": [
    "from methods_split import BinaryConformal\n",
    "\n",
    "# Extract the inliers from the data\n",
    "X_in = X[np.where(Y==0)[0]]\n",
    "X_out = X[np.where(Y==1)[0]]\n",
    "\n",
    "# Compute the p-values\n",
    "method_binary = BinaryConformal(X_in, X_out, bbox_bc, calib_size=0.5, random_state=29)\n",
    "pvals_binary = method_binary.compute_pvalues(X_test)\n",
    "\n",
    "## Plot the p-values\n",
    "fig, axs = plt.subplots(1,2, figsize=(7,3))\n",
    "fig.tight_layout()\n",
    "plt.subplots_adjust(wspace=0.3)\n",
    "axs[0].hist(pvals_binary[Y_test==0], color=\"blue\")\n",
    "axs[1].hist(pvals_binary[Y_test==1], color=\"red\")  \n",
    "axs[0].title.set_text('Inliers')\n",
    "axs[1].title.set_text('Outliers')\n",
    "axs[0].set_xlim(0,1)\n",
    "axs[1].set_xlim(0,1)\n",
    "plt.show()"
   ]
  },
  {
   "cell_type": "markdown",
   "id": "a0247f3b",
   "metadata": {},
   "source": [
    "## Conformal p-values via one-class classification"
   ]
  },
  {
   "cell_type": "code",
   "execution_count": 34,
   "id": "79a60a6f",
   "metadata": {},
   "outputs": [],
   "source": [
    "# Define list of possible one-class classifiers with desired hyper-parameters\n",
    "bbox_occ_list = [svm.OneClassSVM(kernel='rbf', degree=3),\n",
    "                 svm.OneClassSVM(kernel='sigmoid', degree=3),\n",
    "                 svm.OneClassSVM(kernel='poly', degree=3),\n",
    "                 IsolationForest(contamination = 'auto', random_state=random_state),\n",
    "                 LocalOutlierFactor(contamination='auto', novelty=True)\n",
    "               ]\n",
    "\n",
    "# Choose a one-class classifier algorithm\n",
    "bbox_occ = bbox_occ_list[1]"
   ]
  },
  {
   "cell_type": "code",
   "execution_count": 35,
   "id": "1dfd50e2",
   "metadata": {},
   "outputs": [
    {
     "name": "stdout",
     "output_type": "stream",
     "text": [
      "Fitting the black-box model on 25 data points... done.\n",
      "Calculating conformity scores for 25 hold-out data points... done.\n",
      "Calculating conformity scores for 2000 test points... done.\n"
     ]
    },
    {
     "data": {
      "image/png": "[encoded data removed]",
      "text/plain": [
       "<Figure size 504x216 with 2 Axes>"
      ]
     },
     "metadata": {
      "needs_background": "light"
     },
     "output_type": "display_data"
    }
   ],
   "source": [
    "from methods_split import OneClassConformal\n",
    "\n",
    "# Extract the inliers from the data\n",
    "X_in = X[Y==0]\n",
    "\n",
    "# Compute the p-values\n",
    "method_oneclass = OneClassConformal(X_in, bbox_occ, calib_size=0.5)\n",
    "pvals_oneclass = method_oneclass.compute_pvalues(X_test)\n",
    "\n",
    "## Plot the p-values\n",
    "fig, axs = plt.subplots(1,2, figsize=(7,3))\n",
    "fig.tight_layout()\n",
    "plt.subplots_adjust(wspace=0.3)\n",
    "axs[0].hist(pvals_oneclass[Y_test==0], color=\"blue\")\n",
    "axs[1].hist(pvals_oneclass[Y_test==1], color=\"red\")  \n",
    "axs[0].title.set_text('Inliers')\n",
    "axs[1].title.set_text('Outliers')\n",
    "axs[0].set_xlim(0,1)\n",
    "axs[1].set_xlim(0,1)\n",
    "plt.show()"
   ]
  },
  {
   "cell_type": "markdown",
   "id": "bfbd5311",
   "metadata": {},
   "source": [
    "## Conformal p-values via weighted one-class classification"
   ]
  },
  {
   "cell_type": "code",
   "execution_count": 36,
   "id": "8d5b8d6a",
   "metadata": {},
   "outputs": [
    {
     "name": "stdout",
     "output_type": "stream",
     "text": [
      "Fitting a one-class classification model on 25 data points... done.\n",
      "Fitting a one-class classification model on 25 data points... done.\n"
     ]
    },
    {
     "name": "stderr",
     "output_type": "stream",
     "text": [
      "100%|██████████| 2000/2000 [00:01<00:00, 1600.77it/s]\n"
     ]
    },
    {
     "data": {
      "image/png": "[encoded data removed]",
      "text/plain": [
       "<Figure size 504x216 with 2 Axes>"
      ]
     },
     "metadata": {
      "needs_background": "light"
     },
     "output_type": "display_data"
    },
    {
     "data": {
      "image/png": "[encoded data removed]",
      "text/plain": [
       "<Figure size 504x432 with 4 Axes>"
      ]
     },
     "metadata": {
      "needs_background": "light"
     },
     "output_type": "display_data"
    },
    {
     "data": {
      "text/plain": [
       "0.449423076923077"
      ]
     },
     "execution_count": 36,
     "metadata": {},
     "output_type": "execute_result"
    }
   ],
   "source": [
    "from methods_split import WeightedOneClassConformal\n",
    "\n",
    "# Extract the inliers from the data\n",
    "X_in = X[Y==0]\n",
    "X_out = X[Y==1]\n",
    "\n",
    "# Choose a family of one-class classifiers\n",
    "bboxes_one = [bbox_occ]\n",
    "\n",
    "# Compute the p-values\n",
    "method_woc = WeightedOneClassConformal(X_in, X_out, bboxes_one=bboxes_one, calib_size=0.5, tuning=True)\n",
    "pvals_woneclass, pvals_woneclass_0, pvals_woneclass_1 = method_woc.compute_pvalues(X_test, return_prepvals=True)\n",
    "\n",
    "## Plot the p-values\n",
    "fig, axs = plt.subplots(1,2, figsize=(7,3))\n",
    "fig.tight_layout()\n",
    "plt.subplots_adjust(wspace=0.3)\n",
    "axs[0].hist(pvals_woneclass[Y_test==0], color=\"blue\")\n",
    "axs[1].hist(pvals_woneclass[Y_test==1], color=\"red\")  \n",
    "axs[0].title.set_text('Inliers')\n",
    "axs[1].title.set_text('Outliers')\n",
    "axs[0].set_xlim(0,1)\n",
    "axs[1].set_xlim(0,1)\n",
    "plt.show()\n",
    "\n",
    "## Plot the preliminary p-values\n",
    "fig, axs = plt.subplots(2,2, figsize=(7,6))\n",
    "fig.tight_layout()\n",
    "plt.subplots_adjust(wspace=0.3)\n",
    "axs[0,0].hist(pvals_woneclass_0[Y_test==0], color=\"blue\")\n",
    "axs[0,1].hist(pvals_woneclass_0[Y_test==1], color=\"red\")  \n",
    "axs[1,0].hist(pvals_woneclass_1[Y_test==0], color=\"red\")\n",
    "axs[1,1].hist(pvals_woneclass_1[Y_test==1], color=\"blue\")  \n",
    "axs[0,0].title.set_text('H0: Inliers')\n",
    "axs[0,1].title.set_text('H0: Outliers')\n",
    "axs[1,0].title.set_text('H1: Inliers')\n",
    "axs[1,1].title.set_text('H1: Outliers')\n",
    "axs[0,0].set_xlim(0,1)\n",
    "axs[0,1].set_xlim(0,1)\n",
    "axs[1,0].set_xlim(0,1)\n",
    "axs[1,1].set_xlim(0,1)\n",
    "plt.show()\n",
    "\n",
    "np.mean(pvals_woneclass[Y_test==1])"
   ]
  },
  {
   "cell_type": "markdown",
   "id": "7f6748bb",
   "metadata": {},
   "source": [
    "## Integrative (one-class only) weighted ensemble"
   ]
  },
  {
   "cell_type": "code",
   "execution_count": 37,
   "id": "d2ca4714",
   "metadata": {},
   "outputs": [
    {
     "name": "stdout",
     "output_type": "stream",
     "text": [
      "Fitting a one-class classification model on 25 data points... done.\n",
      "Fitting a one-class classification model on 25 data points... done.\n",
      "Fitting a one-class classification model on 25 data points... done.\n",
      "Fitting a one-class classification model on 25 data points... done.\n",
      "Fitting a one-class classification model on 25 data points... done.\n",
      "Fitting a one-class classification model on 25 data points... done.\n",
      "Fitting a one-class classification model on 25 data points... done.\n",
      "Fitting a one-class classification model on 25 data points... done.\n",
      "Fitting a one-class classification model on 25 data points... done.\n",
      "Fitting a one-class classification model on 25 data points... done.\n"
     ]
    },
    {
     "name": "stderr",
     "output_type": "stream",
     "text": [
      "100%|██████████| 2000/2000 [00:04<00:00, 412.84it/s]\n"
     ]
    },
    {
     "data": {
      "image/png": "[encoded data removed]",
      "text/plain": [
       "<Figure size 504x216 with 2 Axes>"
      ]
     },
     "metadata": {
      "needs_background": "light"
     },
     "output_type": "display_data"
    }
   ],
   "source": [
    "from methods_split import WeightedOneClassConformal\n",
    "\n",
    "# Extract the inliers from the data\n",
    "X_in = X[Y==0]\n",
    "X_out = X[Y==1]\n",
    "\n",
    "# Choose a family of one-class classifiers\n",
    "bboxes_one = bbox_occ_list\n",
    "bboxes_two = bbox_bc_list\n",
    "\n",
    "# Compute the p-values\n",
    "method_woc_ens = WeightedOneClassConformal(X_in, X_out, \n",
    "                                           bboxes_one=bboxes_one, bboxes_two=[],\n",
    "                                           calib_size=0.5, ratio=True, tuning=True)\n",
    "pvals_woneclass_ens = method_woc_ens.compute_pvalues(X_test)\n",
    "\n",
    "## Plot the p-values\n",
    "fig, axs = plt.subplots(1,2, figsize=(7,3))\n",
    "fig.tight_layout()\n",
    "plt.subplots_adjust(wspace=0.3)\n",
    "axs[0].hist(pvals_woneclass_ens[Y_test==0], color=\"blue\")\n",
    "axs[1].hist(pvals_woneclass_ens[Y_test==1], color=\"red\")  \n",
    "axs[0].title.set_text('Inliers')\n",
    "axs[1].title.set_text('Outliers')\n",
    "axs[0].set_xlim(0,1)\n",
    "axs[1].set_xlim(0,1)\n",
    "plt.show()"
   ]
  },
  {
   "cell_type": "markdown",
   "id": "5080fb0d",
   "metadata": {},
   "source": [
    "## Binary ensemble (unweighted)"
   ]
  },
  {
   "cell_type": "code",
   "execution_count": 38,
   "id": "091db2d6",
   "metadata": {},
   "outputs": [
    {
     "name": "stdout",
     "output_type": "stream",
     "text": [
      "Fitting a two-class classification model on 50 data points... done.\n",
      "Fitting a two-class classification model on 50 data points... done.\n",
      "Fitting a two-class classification model on 50 data points... done.\n",
      "Fitting a two-class classification model on 50 data points... done.\n",
      "Fitting a two-class classification model on 50 data points... done.\n",
      "Fitting a two-class classification model on 50 data points... done.\n"
     ]
    },
    {
     "name": "stderr",
     "output_type": "stream",
     "text": [
      "/home/msesia/.local/lib/python3.8/site-packages/sklearn/discriminant_analysis.py:878: UserWarning: Variables are collinear\n",
      "  warnings.warn(\"Variables are collinear\")\n",
      "100%|██████████| 2000/2000 [00:02<00:00, 950.73it/s]\n"
     ]
    },
    {
     "data": {
      "image/png": "[encoded data removed]",
      "text/plain": [
       "<Figure size 504x216 with 2 Axes>"
      ]
     },
     "metadata": {
      "needs_background": "light"
     },
     "output_type": "display_data"
    }
   ],
   "source": [
    "from methods_split import WeightedOneClassConformal\n",
    "\n",
    "# Extract the inliers from the data\n",
    "X_in = X[Y==0]\n",
    "X_out = X[Y==1]\n",
    "\n",
    "# Choose a family of one-class classifiers\n",
    "bboxes_one = bbox_occ_list\n",
    "bboxes_two = bbox_bc_list\n",
    "\n",
    "# Compute the p-values\n",
    "method_bin_ens = WeightedOneClassConformal(X_in, X_out, \n",
    "                                           bboxes_two=bboxes_two,\n",
    "                                           calib_size=0.5, ratio=False, tuning=True)\n",
    "pvals_bin_ens = method_bin_ens.compute_pvalues(X_test)\n",
    "\n",
    "## Plot the p-values\n",
    "fig, axs = plt.subplots(1,2, figsize=(7,3))\n",
    "fig.tight_layout()\n",
    "plt.subplots_adjust(wspace=0.3)\n",
    "axs[0].hist(pvals_bin_ens[Y_test==0], color=\"blue\")\n",
    "axs[1].hist(pvals_bin_ens[Y_test==1], color=\"red\")  \n",
    "axs[0].title.set_text('Inliers')\n",
    "axs[1].title.set_text('Outliers')\n",
    "axs[0].set_xlim(0,1)\n",
    "axs[1].set_xlim(0,1)\n",
    "plt.show()"
   ]
  },
  {
   "cell_type": "markdown",
   "id": "9f78ef7a",
   "metadata": {},
   "source": [
    "## Unweighted OCC ensemble"
   ]
  },
  {
   "cell_type": "code",
   "execution_count": 39,
   "id": "f9003bc3",
   "metadata": {},
   "outputs": [
    {
     "name": "stdout",
     "output_type": "stream",
     "text": [
      "Fitting a one-class classification model on 25 data points... done.\n",
      "Fitting a one-class classification model on 25 data points... done.\n",
      "Fitting a one-class classification model on 25 data points... done.\n",
      "Fitting a one-class classification model on 25 data points... done.\n",
      "Fitting a one-class classification model on 25 data points... done.\n",
      "Fitting a one-class classification model on 25 data points... done.\n",
      "Fitting a one-class classification model on 25 data points... done.\n",
      "Fitting a one-class classification model on 25 data points... done.\n",
      "Fitting a one-class classification model on 25 data points... done.\n",
      "Fitting a one-class classification model on 25 data points... done.\n"
     ]
    },
    {
     "name": "stderr",
     "output_type": "stream",
     "text": [
      "100%|██████████| 2000/2000 [00:02<00:00, 818.18it/s]\n"
     ]
    },
    {
     "data": {
      "image/png": "[encoded data removed]",
      "text/plain": [
       "<Figure size 504x216 with 2 Axes>"
      ]
     },
     "metadata": {
      "needs_background": "light"
     },
     "output_type": "display_data"
    }
   ],
   "source": [
    "from methods_split import WeightedOneClassConformal\n",
    "\n",
    "# Extract the inliers from the data\n",
    "X_in = X[Y==0]\n",
    "X_out = X[Y==1]\n",
    "\n",
    "# Choose a family of one-class classifiers\n",
    "bboxes_one = bbox_occ_list\n",
    "bboxes_two = bbox_bc_list\n",
    "\n",
    "# Compute the p-values\n",
    "method_unw_ens = WeightedOneClassConformal(X_in, X_out, \n",
    "                                           bboxes_one=bboxes_one, #bboxes_two=bboxes_two,\n",
    "                                           calib_size=0.5, ratio=False, tuning=True)\n",
    "pvals_unw_ens = method_unw_ens.compute_pvalues(X_test)\n",
    "\n",
    "## Plot the p-values\n",
    "fig, axs = plt.subplots(1,2, figsize=(7,3))\n",
    "fig.tight_layout()\n",
    "plt.subplots_adjust(wspace=0.3)\n",
    "axs[0].hist(pvals_unw_ens[Y_test==0], color=\"blue\")\n",
    "axs[1].hist(pvals_unw_ens[Y_test==1], color=\"red\")  \n",
    "axs[0].title.set_text('Inliers')\n",
    "axs[1].title.set_text('Outliers')\n",
    "axs[0].set_xlim(0,1)\n",
    "axs[1].set_xlim(0,1)\n",
    "plt.show()"
   ]
  },
  {
   "cell_type": "markdown",
   "id": "8b28d0c0",
   "metadata": {},
   "source": [
    "## Integrative method"
   ]
  },
  {
   "cell_type": "code",
   "execution_count": 40,
   "id": "baca2e28",
   "metadata": {},
   "outputs": [
    {
     "name": "stdout",
     "output_type": "stream",
     "text": [
      "Fitting a one-class classification model on 25 data points... done.\n",
      "Fitting a one-class classification model on 25 data points... done.\n",
      "Fitting a one-class classification model on 25 data points... done.\n",
      "Fitting a one-class classification model on 25 data points... done.\n",
      "Fitting a one-class classification model on 25 data points... done.\n",
      "Fitting a one-class classification model on 25 data points... done.\n",
      "Fitting a one-class classification model on 25 data points... done.\n",
      "Fitting a one-class classification model on 25 data points... done.\n",
      "Fitting a one-class classification model on 25 data points... done.\n",
      "Fitting a one-class classification model on 25 data points... done.\n",
      "Fitting a two-class classification model on 50 data points... done.\n",
      "Fitting a two-class classification model on 50 data points... done.\n",
      "Fitting a two-class classification model on 50 data points... done.\n",
      "Fitting a two-class classification model on 50 data points... done.\n",
      "Fitting a two-class classification model on 50 data points... done.\n",
      "Fitting a two-class classification model on 50 data points... done.\n"
     ]
    },
    {
     "name": "stderr",
     "output_type": "stream",
     "text": [
      "/home/msesia/.local/lib/python3.8/site-packages/sklearn/discriminant_analysis.py:878: UserWarning: Variables are collinear\n",
      "  warnings.warn(\"Variables are collinear\")\n",
      "100%|██████████| 2000/2000 [00:08<00:00, 228.79it/s]\n"
     ]
    },
    {
     "data": {
      "image/png": "[encoded data removed]",
      "text/plain": [
       "<Figure size 504x216 with 2 Axes>"
      ]
     },
     "metadata": {
      "needs_background": "light"
     },
     "output_type": "display_data"
    }
   ],
   "source": [
    "from methods_split import WeightedOneClassConformal\n",
    "\n",
    "# Extract the inliers from the data\n",
    "X_in = X[Y==0]\n",
    "X_out = X[Y==1]\n",
    "\n",
    "# Choose a family of one-class classifiers\n",
    "bboxes_one = bbox_occ_list\n",
    "bboxes_two = bbox_bc_list\n",
    "\n",
    "# Compute the p-values\n",
    "method_int = WeightedOneClassConformal(X_in, X_out, bboxes_one=bboxes_one, bboxes_two=bboxes_two,\n",
    "                                       calib_size=0.5, tuning=True)\n",
    "pvals_int, pvals_int_0, pvals_int_1 = method_int.compute_pvalues(X_test, return_prepvals=True)\n",
    "\n",
    "## Plot the p-values\n",
    "fig, axs = plt.subplots(1,2, figsize=(7,3))\n",
    "fig.tight_layout()\n",
    "plt.subplots_adjust(wspace=0.3)\n",
    "axs[0].hist(pvals_int[Y_test==0], color=\"blue\")\n",
    "axs[1].hist(pvals_int[Y_test==1], color=\"red\")  \n",
    "axs[0].title.set_text('Inliers')\n",
    "axs[1].title.set_text('Outliers')\n",
    "axs[0].set_xlim(0,1)\n",
    "axs[1].set_xlim(0,1)\n",
    "plt.show()"
   ]
  },
  {
   "cell_type": "markdown",
   "id": "9df6cd90",
   "metadata": {},
   "source": [
    "## Compare all p-values"
   ]
  },
  {
   "cell_type": "code",
   "execution_count": 41,
   "id": "d9fc5b60",
   "metadata": {},
   "outputs": [
    {
     "data": {
      "image/png": "[encoded data removed]",
      "text/plain": [
       "<Figure size 800x400 with 2 Axes>"
      ]
     },
     "metadata": {
      "needs_background": "light"
     },
     "output_type": "display_data"
    }
   ],
   "source": [
    "def qq_plot(data, reference, ax, color=None, label=None, logarithm=False):\n",
    "    sample_size = len(data)\n",
    "    qq = np.ones([sample_size, 2])\n",
    "    np.random.shuffle(data)\n",
    "    qq[:, 0] = np.sort(reference)\n",
    "    qq[:, 1] = np.sort(data[0:sample_size])\n",
    "    if color is None:\n",
    "        ax.plot(qq[:,0], qq[:,1], label=label, alpha=0.75)\n",
    "    else:\n",
    "        ax.plot(qq[:,0], qq[:,1], color=color, label=label, alpha=0.75)\n",
    "    ax.plot([0,1], [0,1], color=\"black\", linewidth=0.75, linestyle=\"dashed\")\n",
    "    ax.set_xlabel(\"Theoretical (uniform)\")\n",
    "    ax.set_ylabel(\"Empirical\")\n",
    "    if logarithm:\n",
    "        ax.set_xscale('log')\n",
    "        ax.set_yscale('log')        \n",
    "        \n",
    "fig, axs = plt.subplots(1,2, figsize=(8,4), dpi= 100)\n",
    "\n",
    "logarithm = False\n",
    "U = np.random.uniform(size = (len(Y_test),))\n",
    "for y in [0,1]:\n",
    "    qq_plot(pvals_int[Y_test==y], U[Y_test==y], axs[y], label=\"Integrative\", color='#9400d3',\n",
    "            logarithm=logarithm)\n",
    "    qq_plot(pvals_woneclass[Y_test==y], U[Y_test==y], axs[y], label=\"Integrative (OCC)\", color='#940013',\n",
    "            logarithm=logarithm)\n",
    "    qq_plot(pvals_unw_ens[Y_test==y], U[Y_test==y], axs[y], label=\"OCC (ensemble)\", color='#ff1493',\n",
    "            logarithm=logarithm)\n",
    "    qq_plot(pvals_bin_ens[Y_test==y], U[Y_test==y], axs[y], label=\"Binary (ensemble)\", color='#6a5acd',\n",
    "            logarithm=logarithm)\n",
    "    qq_plot(pvals_binary[Y_test==y], U[Y_test==y], axs[y], label=\"Binary (MLP)\", color=\"#6495ED\",\n",
    "            logarithm=logarithm)\n",
    "    qq_plot(pvals_oneclass[Y_test==y], U[Y_test==y], axs[y], label=\"OCC (IF)\", color='#FFA500',\n",
    "            logarithm=logarithm)\n",
    "\n",
    "plt.legend()\n",
    "plt.show()"
   ]
  },
  {
   "cell_type": "code",
   "execution_count": 42,
   "id": "5adf605c",
   "metadata": {},
   "outputs": [],
   "source": [
    "## Make figure for paper\n",
    "if False:      \n",
    "    fig, axs = plt.subplots(1,2, figsize=(7.5,3.2), dpi= 100)\n",
    "\n",
    "    axs[0].set_title(\"Inliers\")\n",
    "    axs[1].set_title(\"Outliers\")\n",
    "    logarithm = False\n",
    "    U = np.random.uniform(size = (len(Y_test),))\n",
    "    for y in [0,1]:\n",
    "        qq_plot(pvals_woneclass_ens[Y_test==y], U[Y_test==y], axs[y], label=\"Integrative\", color='#9400d3',\n",
    "                logarithm=logarithm)\n",
    "        qq_plot(pvals_woneclass[Y_test==y], U[Y_test==y], axs[y], label=\"Integrative (OCC)\", logarithm=logarithm)\n",
    "        qq_plot(pvals_unw_ens[Y_test==y], U[Y_test==y], axs[y], label=\"OCC (ensemble)\", color='#ff1493',\n",
    "                logarithm=logarithm)\n",
    "        qq_plot(pvals_bin_ens[Y_test==y], U[Y_test==y], axs[y], label=\"Binary (ensemble)\", color='#6a5acd',\n",
    "                logarithm=logarithm)\n",
    "        qq_plot(pvals_binary[Y_test==y], U[Y_test==y], axs[y], label=\"Binary (MLP)\", color=\"#6495ED\", logarithm=logarithm)\n",
    "        qq_plot(pvals_oneclass[Y_test==y], U[Y_test==y], axs[y], label=\"OCC (IF)\", color='#FFA500', logarithm=logarithm)\n",
    "        \n",
    "\n",
    "    plt.legend(loc=(1.1,0.5))\n",
    "    plt.savefig('setup1_qq.pdf', dpi=200, bbox_inches='tight')\n",
    "    plt.show()"
   ]
  },
  {
   "cell_type": "code",
   "execution_count": null,
   "id": "237de3fa",
   "metadata": {},
   "outputs": [],
   "source": []
  }
 ],
 "metadata": {
  "kernelspec": {
   "display_name": "Python 3",
   "language": "python",
   "name": "python3"
  },
  "language_info": {
   "codemirror_mode": {
    "name": "ipython",
    "version": 3
   },
   "file_extension": ".py",
   "mimetype": "text/x-python",
   "name": "python",
   "nbconvert_exporter": "python",
   "pygments_lexer": "ipython3",
   "version": "3.8.10"
  }
 },
 "nbformat": 4,
 "nbformat_minor": 5
}
