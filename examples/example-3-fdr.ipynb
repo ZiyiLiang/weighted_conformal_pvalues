{
 "cells": [
  {
   "cell_type": "markdown",
   "id": "6f49d94a",
   "metadata": {},
   "source": [
    "## FDR control of the integrative conformal p-values with conditional calibration\n",
    "This notebook shows the usage of the conditional calibration method detailed in the accompanying paper, it is shown that conditional calibration method is able to theoretically control the FDR with finite sample and this notebook confirms empirically with some synthetic datasets. Furthermore, we also implemented BH procedure to the integrative conformal p-values, which can also control FDR empirically while lack theoretical support."
   ]
  },
  {
   "cell_type": "code",
   "execution_count": 25,
   "id": "b30abd2c",
   "metadata": {},
   "outputs": [
    {
     "name": "stdout",
     "output_type": "stream",
     "text": [
      "The autoreload extension is already loaded. To reload it, use:\n",
      "  %reload_ext autoreload\n"
     ]
    }
   ],
   "source": [
    "%load_ext autoreload\n",
    "%autoreload 2\n",
    "\n",
    "import matplotlib.pyplot as plt\n",
    "plt.rcParams['figure.figsize'] = [5, 5]\n",
    "\n",
    "import numpy as np\n",
    "import pandas as pd\n",
    "import seaborn as sns\n",
    "import statistics as stats\n",
    "from tqdm import tqdm\n",
    "import pdb\n",
    "import copy\n",
    "\n",
    "import sys\n",
    "import os\n",
    "\n",
    "from sklearn.base import clone\n",
    "from sklearn import svm\n",
    "from sklearn.neural_network import MLPClassifier\n",
    "from sklearn.neighbors import KNeighborsClassifier\n",
    "from sklearn.ensemble import IsolationForest\n",
    "from sklearn.neighbors import LocalOutlierFactor\n",
    "from sklearn.discriminant_analysis import QuadraticDiscriminantAnalysis\n",
    "from sklearn.ensemble import RandomForestClassifier\n",
    "from sklearn.svm import SVC\n",
    "from sklearn.naive_bayes import GaussianNB\n",
    "\n",
    "\n",
    "sys.path.append('../methods')"
   ]
  },
  {
   "cell_type": "markdown",
   "id": "dfdc3d16",
   "metadata": {},
   "source": [
    "## Define experiment parameters"
   ]
  },
  {
   "cell_type": "code",
   "execution_count": 26,
   "id": "27954775",
   "metadata": {},
   "outputs": [],
   "source": [
    "#########################\n",
    "# Experiment parameters #\n",
    "#########################\n",
    "data_name = \"circles-mixed\" \n",
    "n = 1000      # number of training/calibration data\n",
    "p = 100      # number of features\n",
    "a = 2        # signal strength\n",
    "purity = 0.5  # purity of the train/calibration data\n",
    "alpha = 0.1   # pre-specified FDR level\n",
    "n_test = 20   # number of test points\n",
    "random_state = 2022\n",
    "\n",
    "# Fixed experiment parameters\n",
    "purity_test = 0.5\n",
    "calib_size = 0.5\n",
    "num_repetitions = 20\n",
    "J_max = 10"
   ]
  },
  {
   "cell_type": "code",
   "execution_count": 27,
   "id": "b0c3a5af",
   "metadata": {},
   "outputs": [],
   "source": [
    "# Define list of possible one-class classifiers with desired hyper-parameters\n",
    "bbox_occ_list = [svm.OneClassSVM(kernel='rbf', gamma=\"auto\"),\n",
    "                 svm.OneClassSVM(kernel='sigmoid'),\n",
    "                 svm.OneClassSVM(kernel='poly', degree=3),\n",
    "                 IsolationForest(contamination = 'auto', random_state=random_state),\n",
    "                 LocalOutlierFactor(contamination='auto', novelty=True)\n",
    "               ]\n",
    "\n",
    "# Define list of possible two-class classifiers with desired hyper-parameters\n",
    "bbox_bc_list = [RandomForestClassifier(random_state=random_state),\n",
    "                KNeighborsClassifier(),\n",
    "                SVC(probability=True),\n",
    "                GaussianNB(),\n",
    "                QuadraticDiscriminantAnalysis(),   \n",
    "                MLPClassifier(max_iter=500, random_state=random_state) \n",
    "               ]"
   ]
  },
  {
   "cell_type": "markdown",
   "id": "c760afdf",
   "metadata": {},
   "source": [
    "## Define the experiment"
   ]
  },
  {
   "cell_type": "code",
   "execution_count": 28,
   "id": "a469f5e8",
   "metadata": {},
   "outputs": [],
   "source": [
    "from models import ConcentricCircles, ConcentricCirclesMixture, BinomialModel\n",
    "\n",
    "# data generating models\n",
    "class DataSet:\n",
    "    def __init__(self, data_name, random_state=None):\n",
    "        if data_name==\"circles\":\n",
    "            self.model = ConcentricCircles(p, a, random_state=random_state)\n",
    "        elif data_name==\"circles-mixed\":\n",
    "            self.model = ConcentricCirclesMixture(p, a, random_state=random_state)\n",
    "        elif data_name==\"binomial\":\n",
    "            self.model = BinomialModel(p, a, random_state=random_state)\n",
    "        else:\n",
    "            print(\"Error: unknown model name!\")\n",
    "            exit(0)\n",
    "\n",
    "    def sample(self, n, purity, random_state=None):\n",
    "        return self.model.sample(n, purity, random_state=random_state)"
   ]
  },
  {
   "cell_type": "code",
   "execution_count": 29,
   "id": "4320c9a9",
   "metadata": {},
   "outputs": [],
   "source": [
    "# evaluate the power and fdr of a rejection set\n",
    "def eval_discoveries(reject, Y):\n",
    "    is_nonnull = (Y==1)\n",
    "    rejections = np.sum(reject)\n",
    "    if rejections>0:\n",
    "        fdp = 1-np.mean(is_nonnull[np.where(reject)[0]])\n",
    "        power = np.sum(is_nonnull[np.where(reject)[0]]) / np.sum(is_nonnull)\n",
    "    else:\n",
    "        fdp = 0\n",
    "        power = 0\n",
    "    return fdp, power"
   ]
  },
  {
   "cell_type": "code",
   "execution_count": 30,
   "id": "1159c648",
   "metadata": {},
   "outputs": [],
   "source": [
    "from tabnanny import verbose\n",
    "from methods_split import IntegrativeConformal\n",
    "from methods_fdr import IntegrativeConformalFDR\n",
    "\n",
    "def run_experiment(dataset, random_state):\n",
    "    # Sample the training/calibration data\n",
    "    X, Y = dataset.sample(n, purity)\n",
    "    X_in = X[Y==0]\n",
    "    X_out = X[Y==1]\n",
    "    # Sample the test data\n",
    "    X_test, Y_test = dataset.sample(n_test, purity_test)\n",
    "\n",
    "    # Initialize result data frame\n",
    "    results = pd.DataFrame({})\n",
    "\n",
    "    ## Conformal p-values via weighted one-class classification and learning ensemble\n",
    "    print(\"Running weighted classifiers with learning ensemble...\")\n",
    "    sys.stdout.flush()\n",
    "    bboxes_one = copy.deepcopy(bbox_occ_list)\n",
    "    bboxes_two = copy.deepcopy(bbox_bc_list)\n",
    "    method = IntegrativeConformal(X_in, X_out,\n",
    "                                  bboxes_one=bboxes_one, bboxes_two=bboxes_two,\n",
    "                                  calib_size=calib_size, tuning=True, progress=False, verbose=False)\n",
    "\n",
    "    icfdr = IntegrativeConformalFDR(method)\n",
    "\n",
    "    # Apply the new method with no loo\n",
    "    reject_sel, pruned_sel = icfdr.filter_fdr_conditional(X_test, alpha, J_max=J_max, loo='none', verbose=False)\n",
    "    fdp_sel, power_sel = eval_discoveries(reject_sel, Y_test)    \n",
    "    results_tmp = pd.DataFrame({\"Method\":[\"Selective\"], \"FDP\":[fdp_sel], \"Power\":[power_sel], \"LOO\":['none'], \"Pruned\":[pruned_sel]})\n",
    "    results = pd.concat([results, results_tmp])\n",
    "\n",
    "    # Apply the regular BH\n",
    "    reject_bh = icfdr.filter_fdr_bh(X_test, alpha)\n",
    "    fdp_bh, power_bh = eval_discoveries(reject_bh, Y_test)\n",
    "    results_tmp = pd.DataFrame({\"Method\":[\"BH\"], \"FDP\":[fdp_bh], \"Power\":[power_bh], \"LOO\":[\"none\"], \"Pruned\":[False]})\n",
    "    results = pd.concat([results, results_tmp])\n",
    "\n",
    "    return results"
   ]
  },
  {
   "cell_type": "code",
   "execution_count": null,
   "id": "91c8cf3b",
   "metadata": {},
   "outputs": [],
   "source": [
    "# Initialize result data frame\n",
    "results = pd.DataFrame({})\n",
    "\n",
    "for r in range(num_repetitions):\n",
    "    print(\"\\nStarting repetition {:d} of {:d}:\\n\".format(r+1, num_repetitions))\n",
    "    sys.stdout.flush()\n",
    "    # Change random seed for this repetition\n",
    "    random_state_new = 10*num_repetitions*random_state + r\n",
    "    dataset = DataSet(data_name, random_state=random_state_new)\n",
    "    # Run experiment and collect results\n",
    "    results_new = run_experiment(dataset, random_state_new)\n",
    "    results_new[\"Repetition\"] = r\n",
    "    results = pd.concat([results, results_new])"
   ]
  },
  {
   "cell_type": "markdown",
   "id": "af481cda",
   "metadata": {},
   "source": [
    "## Plot the FDR and Power of BH and conditional calibration"
   ]
  },
  {
   "cell_type": "code",
   "execution_count": 52,
   "id": "65f2dd12",
   "metadata": {},
   "outputs": [
    {
     "data": {
      "image/png": "[encoded data removed]",
      "text/plain": [
       "<Figure size 720x288 with 2 Axes>"
      ]
     },
     "metadata": {
      "needs_background": "light"
     },
     "output_type": "display_data"
    }
   ],
   "source": [
    "fig, (ax1, ax2) = plt.subplots(1,2, figsize=(10,4))\n",
    "sns.boxplot(y=\"FDP\", x=\"Method\", hue=\"Method\", data=results, ax=ax1)\n",
    "ax1.set(xlabel='Method', ylabel='FDP')\n",
    "ax1.axhline(alpha, ls='--', color=\"red\")\n",
    "ax1.legend(loc='upper center', title='Method')\n",
    "\n",
    "sns.boxplot(y=\"Power\", x=\"Method\", hue=\"Method\", data=results, ax=ax2)\n",
    "ax2.set(xlabel='Method', ylabel='Power')\n",
    "ax2.legend(loc='upper center', title='Method')\n",
    "plt.show()"
   ]
  }
 ],
 "metadata": {
  "kernelspec": {
   "display_name": "Python 3.7.10 ('py37')",
   "language": "python",
   "name": "python3"
  },
  "language_info": {
   "codemirror_mode": {
    "name": "ipython",
    "version": 3
   },
   "file_extension": ".py",
   "mimetype": "text/x-python",
   "name": "python",
   "nbconvert_exporter": "python",
   "pygments_lexer": "ipython3",
   "version": "3.7.10"
  },
  "vscode": {
   "interpreter": {
    "hash": "bf303f2869660b3de1215e1762ab08b944862e6f67306160c1d0857b3ccb94d6"
   }
  }
 },
 "nbformat": 4,
 "nbformat_minor": 5
}
