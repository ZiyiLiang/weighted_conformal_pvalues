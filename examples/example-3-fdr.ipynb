{
 "cells": [
  {
   "cell_type": "code",
   "execution_count": 1,
   "id": "0271b6cf",
   "metadata": {},
   "outputs": [],
   "source": [
    "%load_ext autoreload\n",
    "%autoreload 2\n",
    "\n",
    "import matplotlib.pyplot as plt\n",
    "plt.rcParams['figure.figsize'] = [5, 5]\n",
    "\n",
    "import numpy as np\n",
    "import pandas as pd\n",
    "import seaborn as sns\n",
    "import statistics as stats\n",
    "from tqdm import tqdm\n",
    "import pdb\n",
    "import copy\n",
    "\n",
    "import sys\n",
    "import os\n",
    "\n",
    "#########################\n",
    "# Experiment parameters #\n",
    "#########################\n",
    "from sklearn.base import clone\n",
    "from sklearn import svm\n",
    "from sklearn.neural_network import MLPClassifier\n",
    "from sklearn.neighbors import KNeighborsClassifier\n",
    "from sklearn.ensemble import IsolationForest\n",
    "from sklearn.neighbors import LocalOutlierFactor\n",
    "from sklearn.discriminant_analysis import QuadraticDiscriminantAnalysis\n",
    "from sklearn.ensemble import RandomForestClassifier\n",
    "from sklearn.svm import SVC\n",
    "\n",
    "sys.path.append('../third_party')\n",
    "sys.path.append('../methods')"
   ]
  },
  {
   "cell_type": "markdown",
   "id": "d32ed6c4",
   "metadata": {},
   "source": [
    "## Data generation"
   ]
  },
  {
   "cell_type": "code",
   "execution_count": 2,
   "id": "7c869c62",
   "metadata": {},
   "outputs": [
    {
     "name": "stdout",
     "output_type": "stream",
     "text": [
      "Number of inliers in training/calibration data: 500.\n",
      "Number of outliers in training/calibration data: 500.\n",
      "Number of inliers in test data: 5.\n",
      "Number of outliers in test data: 5.\n"
     ]
    }
   ],
   "source": [
    "from models import GaussianMixture, ConcentricCircles, ConcentricCircles2, ConcentricCirclesMixture, BinomialModel\n",
    "\n",
    "random_state = 2023\n",
    "\n",
    "model_name = \"circles\"\n",
    "\n",
    "if model_name == \"GaussianMixture\":\n",
    "    p = 20        # Number of features\n",
    "    a = 0.25         # Signal amplitude\n",
    "    model = GaussianMixture(p, a, random_state=random_state)\n",
    "    purity = 0.8    # Proportion of inliers\n",
    "    n = 1000          # Number of observations\n",
    "    \n",
    "elif model_name == \"circles\":\n",
    "    p = 1000        # Number of features\n",
    "    a = 0.4        # Signal amplitude\n",
    "    model = ConcentricCirclesMixture(p, a, random_state=random_state)\n",
    "    purity = 0.5      # Proportion of inliers\n",
    "    n = 1000          # Number of observations\n",
    "\n",
    "elif model_name == \"BinomialModel\":\n",
    "    p = 100        # Number of features\n",
    "    a = 5          # Signal amplitude\n",
    "    model = BinomialModel(p, a, random_state=random_state)\n",
    "    purity = 0.5     # Proportion of inliers\n",
    "    n = 100          # Number of observations\n",
    "    \n",
    "else:\n",
    "    print(\"Error: unknown model name!\")\n",
    "    \n",
    "    \n",
    "n_test = 10     # Number of test points\n",
    "purity_test = 0.5 # Proportion of inliers in test set\n",
    "\n",
    "X, Y = model.sample(n, purity)\n",
    "X_test, Y_test = model.sample(n_test, purity)\n",
    "\n",
    "print(\"Number of inliers in training/calibration data: {}.\".format(np.sum(Y==0)))\n",
    "print(\"Number of outliers in training/calibration data: {}.\".format(np.sum(Y==1)))\n",
    "\n",
    "print(\"Number of inliers in test data: {}.\".format(np.sum(Y_test==0)))\n",
    "print(\"Number of outliers in test data: {}.\".format(np.sum(Y_test==1)))"
   ]
  },
  {
   "cell_type": "markdown",
   "id": "bb622a8d",
   "metadata": {},
   "source": [
    "## Define the integrative method"
   ]
  },
  {
   "cell_type": "code",
   "execution_count": 3,
   "id": "43d7ce6f",
   "metadata": {},
   "outputs": [],
   "source": [
    "# Define list of possible one-class classifiers with desired hyper-parameters\n",
    "bbox_occ_list = [svm.OneClassSVM(kernel='rbf', gamma=\"auto\"),\n",
    "                 svm.OneClassSVM(kernel='sigmoid'),\n",
    "                 svm.OneClassSVM(kernel='poly', degree=3),\n",
    "                 IsolationForest(contamination = 'auto', random_state=random_state),\n",
    "                 #LocalOutlierFactor(contamination='auto', novelty=True)\n",
    "               ]\n",
    "\n",
    "# Choose a one-class classifier algorithm\n",
    "bbox_occ = bbox_occ_list[1]"
   ]
  },
  {
   "cell_type": "code",
   "execution_count": 4,
   "id": "fea919a0",
   "metadata": {},
   "outputs": [
    {
     "name": "stdout",
     "output_type": "stream",
     "text": [
      "Fitting a one-class classification model on 250 data points... done.\n",
      "Fitting a one-class classification model on 250 data points... done.\n",
      "Fitting a one-class classification model on 250 data points... done.\n",
      "Fitting a one-class classification model on 250 data points... done.\n",
      "Fitting a one-class classification model on 250 data points... done.\n",
      "Fitting a one-class classification model on 250 data points... done.\n",
      "Fitting a one-class classification model on 250 data points... done.\n",
      "Fitting a one-class classification model on 250 data points... done.\n"
     ]
    },
    {
     "name": "stderr",
     "output_type": "stream",
     "text": [
      "100%|██████████| 10/10 [00:00<00:00, 350.08it/s]\n"
     ]
    },
    {
     "data": {
      "image/png": "[encoded data removed]",
      "text/plain": [
       "<Figure size 504x216 with 2 Axes>"
      ]
     },
     "metadata": {
      "needs_background": "light"
     },
     "output_type": "display_data"
    }
   ],
   "source": [
    "from methods_split import IntegrativeConformal\n",
    "\n",
    "# Extract the inliers from the data\n",
    "X_in = X[Y==0]\n",
    "X_out = X[Y==1]\n",
    "\n",
    "# Choose a family of one-class classifiers\n",
    "bboxes_one = bbox_occ_list\n",
    "\n",
    "# Compute the p-values\n",
    "method_int = IntegrativeConformal(X_in, X_out, bboxes_one=bboxes_one, calib_size=0.5, tuning=True)\n",
    "pvals_int = method_int.compute_pvalues(X_test, return_prepvals=False)\n",
    "\n",
    "## Plot the p-values\n",
    "fig, axs = plt.subplots(1,2, figsize=(7,3))\n",
    "fig.tight_layout()\n",
    "plt.subplots_adjust(wspace=0.3)\n",
    "axs[0].hist(pvals_int[Y_test==0], color=\"blue\")\n",
    "axs[1].hist(pvals_int[Y_test==1], color=\"red\")  \n",
    "axs[0].title.set_text('Inliers')\n",
    "axs[1].title.set_text('Outliers')\n",
    "axs[0].set_xlim(0,1)\n",
    "axs[1].set_xlim(0,1)\n",
    "plt.show()"
   ]
  },
  {
   "cell_type": "markdown",
   "id": "9bd2d704",
   "metadata": {},
   "source": [
    "## Conditional FDR calibration"
   ]
  },
  {
   "cell_type": "code",
   "execution_count": 5,
   "id": "01af479a",
   "metadata": {},
   "outputs": [
    {
     "name": "stderr",
     "output_type": "stream",
     "text": [
      "100%|██████████| 10/10 [00:00<00:00, 377.75it/s]\n",
      "100%|██████████| 10/10 [00:03<00:00,  2.81it/s]"
     ]
    },
    {
     "name": "stdout",
     "output_type": "stream",
     "text": [
      "Pruning is not needed.\n"
     ]
    },
    {
     "name": "stderr",
     "output_type": "stream",
     "text": [
      "\n"
     ]
    },
    {
     "data": {
      "text/plain": [
       "array([0, 2])"
      ]
     },
     "execution_count": 5,
     "metadata": {},
     "output_type": "execute_result"
    }
   ],
   "source": [
    "from methods_fdr import IntegrativeConformalFDR\n",
    "\n",
    "alpha = 0.1\n",
    "\n",
    "icfdr = IntegrativeConformalFDR(method_int)\n",
    "rejection_sel, pruning_sel = icfdr.filter_fdr_conditional(X_test, alpha)\n",
    "rejection_sel"
   ]
  },
  {
   "cell_type": "markdown",
   "id": "a52e1408",
   "metadata": {},
   "source": [
    "## BH"
   ]
  },
  {
   "cell_type": "code",
   "execution_count": 6,
   "id": "8a050a2f",
   "metadata": {},
   "outputs": [
    {
     "name": "stderr",
     "output_type": "stream",
     "text": [
      "100%|██████████| 10/10 [00:00<00:00, 385.44it/s]\n"
     ]
    },
    {
     "data": {
      "text/plain": [
       "array([0, 2])"
      ]
     },
     "execution_count": 6,
     "metadata": {},
     "output_type": "execute_result"
    }
   ],
   "source": [
    "rejection_bh = icfdr.filter_fdr_bh(X_test, alpha)\n",
    "rejection_bh"
   ]
  },
  {
   "cell_type": "code",
   "execution_count": null,
   "id": "18fd1e40",
   "metadata": {},
   "outputs": [],
   "source": []
  }
 ],
 "metadata": {
  "kernelspec": {
   "display_name": "Python 3",
   "language": "python",
   "name": "python3"
  },
  "language_info": {
   "codemirror_mode": {
    "name": "ipython",
    "version": 3
   },
   "file_extension": ".py",
   "mimetype": "text/x-python",
   "name": "python",
   "nbconvert_exporter": "python",
   "pygments_lexer": "ipython3",
   "version": "3.8.10"
  }
 },
 "nbformat": 4,
 "nbformat_minor": 5
}
