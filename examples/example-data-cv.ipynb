{
 "cells": [
  {
   "cell_type": "code",
   "execution_count": 1,
   "id": "5f952be3",
   "metadata": {},
   "outputs": [],
   "source": [
    "%load_ext autoreload\n",
    "%autoreload 2\n",
    "\n",
    "import matplotlib.pyplot as plt\n",
    "plt.rcParams['figure.figsize'] = [5, 5]\n",
    "\n",
    "import numpy as np\n",
    "import pandas as pd\n",
    "import seaborn as sns\n",
    "import statistics as stats\n",
    "from tqdm import tqdm\n",
    "import pdb\n",
    "import copy\n",
    "from scipy.io import arff, loadmat\n",
    "\n",
    "import sys\n",
    "import os\n",
    "\n",
    "#########################\n",
    "# Experiment parameters #\n",
    "#########################\n",
    "from sklearn.base import clone\n",
    "from sklearn import svm\n",
    "from sklearn.neural_network import MLPClassifier\n",
    "from sklearn.neighbors import KNeighborsClassifier\n",
    "from sklearn.ensemble import IsolationForest\n",
    "from sklearn.neighbors import LocalOutlierFactor\n",
    "from sklearn.discriminant_analysis import QuadraticDiscriminantAnalysis\n",
    "from sklearn.ensemble import RandomForestClassifier\n",
    "from sklearn.svm import SVC\n",
    "from sklearn.linear_model import SGDOneClassSVM\n",
    "from sklearn.model_selection import train_test_split\n",
    "from nltk.classify.naivebayes import NaiveBayesClassifier\n",
    "\n",
    "\n",
    "sys.path.append('../third_party')\n",
    "sys.path.append('../methods')"
   ]
  },
  {
   "cell_type": "markdown",
   "id": "aeb36cd6",
   "metadata": {},
   "source": [
    "## Data generation"
   ]
  },
  {
   "cell_type": "code",
   "execution_count": 24,
   "id": "f90c9968",
   "metadata": {},
   "outputs": [
    {
     "name": "stdout",
     "output_type": "stream",
     "text": [
      "Loaded data set with 3670 samples: 641 inliers and 3029 outliers, of which 0 are available for training.\n",
      "Number of features: 512.\n",
      "Number of inliers in training/calibration data: 513.\n",
      "Number of outliers in training/calibration data: 10.\n",
      "Number of inliers in test data: 54.\n",
      "Number of outliers in test data: 46.\n"
     ]
    }
   ],
   "source": [
    "from utils_data import DataSet\n",
    "\n",
    "base_path = \"/media/msesia/Samsung/data/\"\n",
    "\n",
    "random_state = 2021\n",
    "model = DataSet(base_path, \"images_flowers\", random_state=random_state, prop_mix=0.5)\n",
    "n_in = 10000\n",
    "n_out = 10\n",
    "\n",
    "X, Y = model.sample(n_in=n_in, n_out=n_out, mislabeled_prop=0)\n",
    "X_test, Y_test = model.sample_test(n=100)\n",
    "\n",
    "print(\"Number of features: {}.\".format(X.shape[1]))\n",
    "print(\"Number of inliers in training/calibration data: {}.\".format(np.sum(Y==0)))\n",
    "print(\"Number of outliers in training/calibration data: {}.\".format(np.sum(Y==1)))\n",
    "\n",
    "print(\"Number of inliers in test data: {}.\".format(np.sum(Y_test==0)))\n",
    "print(\"Number of outliers in test data: {}.\".format(np.sum(Y_test==1)))"
   ]
  },
  {
   "cell_type": "markdown",
   "id": "7b9b09e8",
   "metadata": {},
   "source": [
    "## Conformal p-values via one-class classification (split)"
   ]
  },
  {
   "cell_type": "code",
   "execution_count": 29,
   "id": "d4c39134",
   "metadata": {},
   "outputs": [
    {
     "name": "stdout",
     "output_type": "stream",
     "text": [
      "Fitting the black-box model on 256 data points... done.\n",
      "Calculating conformity scores for 257 hold-out data points... done.\n",
      "Calculating conformity scores for 100 test points... done.\n"
     ]
    },
    {
     "data": {
      "image/png": "[encoded data removed]",
      "text/plain": [
       "<Figure size 504x216 with 2 Axes>"
      ]
     },
     "metadata": {
      "needs_background": "light"
     },
     "output_type": "display_data"
    },
    {
     "data": {
      "text/plain": [
       "0.046511627906976744"
      ]
     },
     "execution_count": 29,
     "metadata": {},
     "output_type": "execute_result"
    }
   ],
   "source": [
    "from methods_split import OneClassConformal as OneClassConformal_split\n",
    "\n",
    "# Define list of possible one-class classifiers with desired hyper-parameters\n",
    "bbox_occ_list = [#svm.OneClassSVM(kernel='linear'),\n",
    "                 svm.OneClassSVM(kernel='rbf'),\n",
    "                 svm.OneClassSVM(kernel='sigmoid'),\n",
    "                 svm.OneClassSVM(kernel='poly', degree=3),\n",
    "                 IsolationForest(contamination = \"auto\", random_state=random_state),\n",
    "                 #IsolationForest(contamination=0.08, max_features=1.0, max_samples=1.0, n_estimators=40),\n",
    "                 LocalOutlierFactor(contamination='auto', novelty=True),\n",
    "                 SGDOneClassSVM(random_state=random_state)\n",
    "               ]\n",
    "\n",
    "# Choose a one-class classifier algorithm\n",
    "bbox_occ = bbox_occ_list[-1]\n",
    "\n",
    "# Extract the inliers from the data\n",
    "X_in = X[Y==0]\n",
    "\n",
    "# Compute the p-values\n",
    "method_oneclass = OneClassConformal_split(X_in, bbox_occ, calib_size=0.5)\n",
    "pvals_oneclass = method_oneclass.compute_pvalues(X_test)\n",
    "\n",
    "## Plot the p-values\n",
    "fig, axs = plt.subplots(1,2, figsize=(7,3))\n",
    "fig.tight_layout()\n",
    "plt.subplots_adjust(wspace=0.3)\n",
    "axs[0].hist(pvals_oneclass[Y_test==0], color=\"blue\")\n",
    "axs[1].hist(pvals_oneclass[Y_test==1], color=\"red\")  \n",
    "axs[0].title.set_text('Inliers')\n",
    "axs[1].title.set_text('Outliers')\n",
    "#axs[0].set_xlim(0,1)\n",
    "#axs[1].set_xlim(0,1)\n",
    "plt.show()\n",
    "\n",
    "np.median(pvals_oneclass[Y_test==1])"
   ]
  },
  {
   "cell_type": "markdown",
   "id": "72af5167",
   "metadata": {},
   "source": [
    "## Conformal p-values via one-class classification"
   ]
  },
  {
   "cell_type": "code",
   "execution_count": 30,
   "id": "5dccd8ab",
   "metadata": {},
   "outputs": [
    {
     "name": "stdout",
     "output_type": "stream",
     "text": [
      "Fitting the black-box model 0 on 461 inliers... done.\n",
      "Fitting the black-box model 1 on 461 inliers... done.\n",
      "Fitting the black-box model 2 on 461 inliers... done.\n",
      "Fitting the black-box model 3 on 462 inliers... done.\n",
      "Fitting the black-box model 4 on 462 inliers... done.\n",
      "Fitting the black-box model 5 on 462 inliers... done.\n",
      "Fitting the black-box model 6 on 462 inliers... done.\n",
      "Fitting the black-box model 7 on 462 inliers... done.\n",
      "Fitting the black-box model 8 on 462 inliers... done.\n",
      "Fitting the black-box model 9 on 462 inliers... done.\n"
     ]
    },
    {
     "data": {
      "image/png": "[encoded data removed]",
      "text/plain": [
       "<Figure size 504x216 with 2 Axes>"
      ]
     },
     "metadata": {
      "needs_background": "light"
     },
     "output_type": "display_data"
    },
    {
     "data": {
      "text/plain": [
       "0.009727626459143969"
      ]
     },
     "execution_count": 30,
     "metadata": {},
     "output_type": "execute_result"
    }
   ],
   "source": [
    "from methods_cv import OneClassConformal\n",
    "\n",
    "# Compute the p-values\n",
    "method_oneclass = OneClassConformal(X_in, bbox_occ, n_folds=10)\n",
    "pvals_oneclass = method_oneclass.compute_pvalues(X_test)\n",
    "\n",
    "## Plot the p-values\n",
    "fig, axs = plt.subplots(1,2, figsize=(7,3))\n",
    "fig.tight_layout()\n",
    "plt.subplots_adjust(wspace=0.3)\n",
    "axs[0].hist(pvals_oneclass[Y_test==0], color=\"blue\")\n",
    "axs[1].hist(pvals_oneclass[Y_test==1], color=\"red\")  \n",
    "axs[0].title.set_text('Inliers')\n",
    "axs[1].title.set_text('Outliers')\n",
    "#axs[0].set_xlim(0,1)\n",
    "#axs[1].set_xlim(0,1)\n",
    "plt.show()\n",
    "\n",
    "np.median(pvals_oneclass[Y_test==1])"
   ]
  },
  {
   "cell_type": "markdown",
   "id": "cef6e42c",
   "metadata": {},
   "source": [
    "## Conformal p-values via binary classification (split)"
   ]
  },
  {
   "cell_type": "code",
   "execution_count": 31,
   "id": "14a67706",
   "metadata": {},
   "outputs": [],
   "source": [
    "from sklearn.ensemble import RandomForestClassifier \n",
    "from sklearn.neighbors import KNeighborsClassifier\n",
    "from sklearn.svm import SVC\n",
    "from sklearn.discriminant_analysis import QuadraticDiscriminantAnalysis\n",
    "from sklearn.naive_bayes import GaussianNB\n",
    "from sklearn.neural_network import MLPClassifier\n",
    "\n",
    "# Define list of possible two-class classifiers with desired hyper-parameters\n",
    "bbox_bc_list = [RandomForestClassifier(random_state=random_state),\n",
    "                KNeighborsClassifier(),\n",
    "                SVC(probability=True),\n",
    "                GaussianNB(),\n",
    "                QuadraticDiscriminantAnalysis(),\n",
    "                MLPClassifier(random_state=random_state, hidden_layer_sizes=(100,100,)) \n",
    "               ]\n",
    "\n",
    "# Choose a binary classifier algorithm\n",
    "bbox_bc = bbox_bc_list[0]"
   ]
  },
  {
   "cell_type": "code",
   "execution_count": 32,
   "id": "bfc41d73",
   "metadata": {},
   "outputs": [
    {
     "name": "stdout",
     "output_type": "stream",
     "text": [
      "Fitting the black-box model on 256 inliers and 10 outliers... done.\n",
      "Calculating conformity scores for 257 hold-out inliers... done.\n",
      "Calculating conformity scores for 100 test points... done.\n"
     ]
    },
    {
     "data": {
      "image/png": "[encoded data removed]",
      "text/plain": [
       "<Figure size 504x216 with 2 Axes>"
      ]
     },
     "metadata": {
      "needs_background": "light"
     },
     "output_type": "display_data"
    },
    {
     "data": {
      "text/plain": [
       "0.40891472868217055"
      ]
     },
     "execution_count": 32,
     "metadata": {},
     "output_type": "execute_result"
    }
   ],
   "source": [
    "from methods_split import BinaryConformal as BinaryConformal_split\n",
    "\n",
    "# Extract the inliers from the data\n",
    "X_in = X[np.where(Y==0)[0]]\n",
    "X_out = X[np.where(Y==1)[0]]\n",
    "\n",
    "# Compute the p-values\n",
    "method_binary = BinaryConformal_split(X_in, X_out, bbox_bc, calib_size=0.5, random_state=2022)\n",
    "pvals_binary = method_binary.compute_pvalues(X_test)\n",
    "\n",
    "## Plot the p-values\n",
    "fig, axs = plt.subplots(1,2, figsize=(7,3))\n",
    "fig.tight_layout()\n",
    "plt.subplots_adjust(wspace=0.3)\n",
    "axs[0].hist(pvals_binary[Y_test==0], color=\"blue\")\n",
    "axs[1].hist(pvals_binary[Y_test==1], color=\"red\")  \n",
    "axs[0].title.set_text('Inliers')\n",
    "axs[1].title.set_text('Outliers')\n",
    "#axs[0].set_xlim(-0.1,1.01)\n",
    "#axs[1].set_xlim(-0.1,1.01)\n",
    "plt.show()\n",
    "\n",
    "np.median(pvals_binary[Y_test==1])"
   ]
  },
  {
   "cell_type": "markdown",
   "id": "beabacb2",
   "metadata": {},
   "source": [
    "## Conformal p-values via binary classification"
   ]
  },
  {
   "cell_type": "code",
   "execution_count": 33,
   "id": "c1c9b8fb",
   "metadata": {},
   "outputs": [
    {
     "name": "stdout",
     "output_type": "stream",
     "text": [
      "Fitting the black-box model 0 on 410 inliers and 10 outliers... done.\n",
      "Fitting the black-box model 1 on 410 inliers and 10 outliers... done.\n",
      "Fitting the black-box model 2 on 410 inliers and 10 outliers... done.\n",
      "Fitting the black-box model 3 on 411 inliers and 10 outliers... done.\n",
      "Fitting the black-box model 4 on 411 inliers and 10 outliers... done.\n"
     ]
    },
    {
     "data": {
      "image/png": "[encoded data removed]",
      "text/plain": [
       "<Figure size 504x216 with 2 Axes>"
      ]
     },
     "metadata": {
      "needs_background": "light"
     },
     "output_type": "display_data"
    },
    {
     "data": {
      "text/plain": [
       "0.23443579766536965"
      ]
     },
     "execution_count": 33,
     "metadata": {},
     "output_type": "execute_result"
    }
   ],
   "source": [
    "from methods_cv import BinaryConformal\n",
    "\n",
    "# Extract the inliers from the data\n",
    "X_in = X[np.where(Y==0)[0]]\n",
    "X_out = X[np.where(Y==1)[0]]\n",
    "\n",
    "# Compute the p-values\n",
    "method_binary = BinaryConformal(X_in, X_out, bbox_bc, n_folds=5, random_state=2022)\n",
    "pvals_binary = method_binary.compute_pvalues(X_test)\n",
    "\n",
    "## Plot the p-values\n",
    "fig, axs = plt.subplots(1,2, figsize=(7,3))\n",
    "fig.tight_layout()\n",
    "plt.subplots_adjust(wspace=0.3)\n",
    "axs[0].hist(pvals_binary[Y_test==0], color=\"blue\")\n",
    "axs[1].hist(pvals_binary[Y_test==1], color=\"red\")  \n",
    "axs[0].title.set_text('Inliers')\n",
    "axs[1].title.set_text('Outliers')\n",
    "#axs[0].set_xlim(-0.1,1.01)\n",
    "#axs[1].set_xlim(-0.1,1.01)\n",
    "plt.show()\n",
    "\n",
    "np.median(pvals_binary[Y_test==1])"
   ]
  },
  {
   "cell_type": "markdown",
   "id": "725c24b7",
   "metadata": {},
   "source": [
    "## Integrative method"
   ]
  },
  {
   "cell_type": "code",
   "execution_count": 6,
   "id": "fa6605f8",
   "metadata": {},
   "outputs": [
    {
     "name": "stdout",
     "output_type": "stream",
     "text": [
      "Fitting a one-class classification model on 50 data points... done.\n",
      "Fitting a one-class classification model on 50 data points... done.\n",
      "Fitting a one-class classification model on 50 data points... done.\n",
      "Fitting a one-class classification model on 50 data points... done.\n",
      "Fitting a one-class classification model on 50 data points... done.\n",
      "Fitting a one-class classification model on 50 data points... done.\n",
      "Fitting a one-class classification model on 5 data points... done.\n",
      "Fitting a one-class classification model on 5 data points... done.\n",
      "Fitting a one-class classification model on 5 data points... done.\n",
      "Fitting a one-class classification model on 5 data points... done.\n",
      "Fitting a one-class classification model on 5 data points... done.\n",
      "Fitting a one-class classification model on 5 data points... done.\n",
      "Fitting a two-class classification model on 55 data points... done.\n",
      "Fitting a two-class classification model on 55 data points... done.\n",
      "Fitting a two-class classification model on 55 data points... done.\n",
      "Fitting a two-class classification model on 55 data points... done.\n",
      "Fitting a two-class classification model on 55 data points... done.\n",
      "Fitting a two-class classification model on 55 data points... done.\n"
     ]
    },
    {
     "name": "stderr",
     "output_type": "stream",
     "text": [
      "/home/msesia/.local/lib/python3.8/site-packages/sklearn/neighbors/_lof.py:284: UserWarning: n_neighbors (20) is greater than the total number of samples (5). n_neighbors will be set to (n_samples - 1) for estimation.\n",
      "  warnings.warn(\n",
      "/home/msesia/.local/lib/python3.8/site-packages/sklearn/discriminant_analysis.py:878: UserWarning: Variables are collinear\n",
      "  warnings.warn(\"Variables are collinear\")\n",
      "100%|██████████| 10/10 [00:00<00:00, 182.66it/s]\n"
     ]
    },
    {
     "data": {
      "image/png": "[encoded data removed]",
      "text/plain": [
       "<Figure size 504x216 with 2 Axes>"
      ]
     },
     "metadata": {
      "needs_background": "light"
     },
     "output_type": "display_data"
    }
   ],
   "source": [
    "from methods_split import IntegrativeConformal as IntegrativeConformal_split\n",
    "\n",
    "\n",
    "# Extract the inliers from the data\n",
    "X_in = X[Y==0]\n",
    "X_out = X[Y==1]\n",
    "\n",
    "# Choose a family of one-class classifiers\n",
    "bboxes_one = bbox_occ_list\n",
    "bboxes_two = bbox_bc_list\n",
    "\n",
    "# Compute the p-values\n",
    "method_int = IntegrativeConformal_split(X_in, X_out, bboxes_one=bbox_occ_list, bboxes_two=bboxes_two,\n",
    "                                       calib_size=0.5, tuning=True)\n",
    "pvals_int, pvals_int_0, pvals_int_1 = method_int.compute_pvalues(X_test, return_prepvals=True)\n",
    "\n",
    "## Plot the p-values\n",
    "fig, axs = plt.subplots(1,2, figsize=(7,3))\n",
    "fig.tight_layout()\n",
    "plt.subplots_adjust(wspace=0.3)\n",
    "axs[0].hist(pvals_int[Y_test==0], color=\"blue\")\n",
    "axs[1].hist(pvals_int[Y_test==1], color=\"red\")  \n",
    "axs[0].title.set_text('Inliers')\n",
    "axs[1].title.set_text('Outliers')\n",
    "plt.show()"
   ]
  },
  {
   "cell_type": "markdown",
   "id": "003f1b91",
   "metadata": {},
   "source": [
    "## Integrative method"
   ]
  },
  {
   "cell_type": "code",
   "execution_count": 7,
   "id": "c5f6b649",
   "metadata": {},
   "outputs": [
    {
     "name": "stdout",
     "output_type": "stream",
     "text": [
      "Fitting the black-box model 0 on fold 0, which contains 8 outliers... done.\n",
      "Fitting the black-box model 0 on fold 1, which contains 8 outliers... done.\n",
      "Fitting the black-box model 0 on fold 2, which contains 8 outliers... done.\n",
      "Fitting the black-box model 0 on fold 3, which contains 8 outliers... done.\n",
      "Fitting the black-box model 0 on fold 4, which contains 8 outliers... done.\n",
      "Fitting the black-box model 1 on fold 0, which contains 8 outliers... done.\n",
      "Fitting the black-box model 1 on fold 1, which contains 8 outliers... done.\n",
      "Fitting the black-box model 1 on fold 2, which contains 8 outliers... done.\n",
      "Fitting the black-box model 1 on fold 3, which contains 8 outliers... done.\n",
      "Fitting the black-box model 1 on fold 4, which contains 8 outliers... done.\n",
      "Fitting the black-box model 2 on fold 0, which contains 8 outliers... done.\n",
      "Fitting the black-box model 2 on fold 1, which contains 8 outliers... done.\n",
      "Fitting the black-box model 2 on fold 2, which contains 8 outliers... done.\n",
      "Fitting the black-box model 2 on fold 3, which contains 8 outliers... done.\n",
      "Fitting the black-box model 2 on fold 4, which contains 8 outliers... done.\n",
      "Fitting the black-box model 3 on fold 0, which contains 8 outliers... done.\n",
      "Fitting the black-box model 3 on fold 1, which contains 8 outliers... done.\n",
      "Fitting the black-box model 3 on fold 2, which contains 8 outliers... done.\n",
      "Fitting the black-box model 3 on fold 3, which contains 8 outliers... done.\n",
      "Fitting the black-box model 3 on fold 4, which contains 8 outliers... done.\n",
      "Fitting the black-box model 4 on fold 0, which contains 8 outliers... done.\n",
      "Fitting the black-box model 4 on fold 1, which contains 8 outliers... done.\n",
      "Fitting the black-box model 4 on fold 2, which contains 8 outliers... done.\n",
      "Fitting the black-box model 4 on fold 3, which contains 8 outliers... done.\n",
      "Fitting the black-box model 4 on fold 4, which contains 8 outliers... done.\n",
      "Fitting the black-box model 5 on fold 0, which contains 8 outliers... done.\n",
      "Fitting the black-box model 5 on fold 1, which contains 8 outliers... done.\n",
      "Fitting the black-box model 5 on fold 2, which contains 8 outliers... done.\n",
      "Fitting the black-box model 5 on fold 3, which contains 8 outliers... done.\n",
      "Fitting the black-box model 5 on fold 4, which contains 8 outliers... done.\n"
     ]
    },
    {
     "name": "stderr",
     "output_type": "stream",
     "text": [
      "/home/msesia/.local/lib/python3.8/site-packages/sklearn/neighbors/_lof.py:284: UserWarning: n_neighbors (20) is greater than the total number of samples (8). n_neighbors will be set to (n_samples - 1) for estimation.\n",
      "  warnings.warn(\n",
      "/home/msesia/.local/lib/python3.8/site-packages/sklearn/neighbors/_lof.py:284: UserWarning: n_neighbors (20) is greater than the total number of samples (8). n_neighbors will be set to (n_samples - 1) for estimation.\n",
      "  warnings.warn(\n",
      "/home/msesia/.local/lib/python3.8/site-packages/sklearn/neighbors/_lof.py:284: UserWarning: n_neighbors (20) is greater than the total number of samples (8). n_neighbors will be set to (n_samples - 1) for estimation.\n",
      "  warnings.warn(\n",
      "/home/msesia/.local/lib/python3.8/site-packages/sklearn/neighbors/_lof.py:284: UserWarning: n_neighbors (20) is greater than the total number of samples (8). n_neighbors will be set to (n_samples - 1) for estimation.\n",
      "  warnings.warn(\n",
      "/home/msesia/.local/lib/python3.8/site-packages/sklearn/neighbors/_lof.py:284: UserWarning: n_neighbors (20) is greater than the total number of samples (8). n_neighbors will be set to (n_samples - 1) for estimation.\n",
      "  warnings.warn(\n",
      "  0%|          | 0/10 [00:00<?, ?it/s]/home/msesia/.local/lib/python3.8/site-packages/sklearn/neural_network/_multilayer_perceptron.py:692: ConvergenceWarning: Stochastic Optimizer: Maximum iterations (200) reached and the optimization hasn't converged yet.\n",
      "  warnings.warn(\n",
      "/home/msesia/.local/lib/python3.8/site-packages/sklearn/neural_network/_multilayer_perceptron.py:692: ConvergenceWarning: Stochastic Optimizer: Maximum iterations (200) reached and the optimization hasn't converged yet.\n",
      "  warnings.warn(\n",
      " 10%|█         | 1/10 [00:02<00:23,  2.58s/it]"
     ]
    },
    {
     "name": "stdout",
     "output_type": "stream",
     "text": [
      "Best model for inliers: 3\n",
      "Best model for outliers: 4\n"
     ]
    },
    {
     "name": "stderr",
     "output_type": "stream",
     "text": [
      "/home/msesia/.local/lib/python3.8/site-packages/sklearn/neural_network/_multilayer_perceptron.py:692: ConvergenceWarning: Stochastic Optimizer: Maximum iterations (200) reached and the optimization hasn't converged yet.\n",
      "  warnings.warn(\n",
      " 20%|██        | 2/10 [00:04<00:19,  2.42s/it]"
     ]
    },
    {
     "name": "stdout",
     "output_type": "stream",
     "text": [
      "Best model for inliers: 3\n",
      "Best model for outliers: 4\n"
     ]
    },
    {
     "name": "stderr",
     "output_type": "stream",
     "text": [
      "/home/msesia/.local/lib/python3.8/site-packages/sklearn/neural_network/_multilayer_perceptron.py:692: ConvergenceWarning: Stochastic Optimizer: Maximum iterations (200) reached and the optimization hasn't converged yet.\n",
      "  warnings.warn(\n",
      " 30%|███       | 3/10 [00:07<00:16,  2.33s/it]"
     ]
    },
    {
     "name": "stdout",
     "output_type": "stream",
     "text": [
      "Best model for inliers: 3\n",
      "Best model for outliers: 4\n"
     ]
    },
    {
     "name": "stderr",
     "output_type": "stream",
     "text": [
      "/home/msesia/.local/lib/python3.8/site-packages/sklearn/neural_network/_multilayer_perceptron.py:692: ConvergenceWarning: Stochastic Optimizer: Maximum iterations (200) reached and the optimization hasn't converged yet.\n",
      "  warnings.warn(\n",
      " 40%|████      | 4/10 [00:09<00:13,  2.28s/it]"
     ]
    },
    {
     "name": "stdout",
     "output_type": "stream",
     "text": [
      "Best model for inliers: 3\n",
      "Best model for outliers: 4\n"
     ]
    },
    {
     "name": "stderr",
     "output_type": "stream",
     "text": [
      "/home/msesia/.local/lib/python3.8/site-packages/sklearn/neural_network/_multilayer_perceptron.py:692: ConvergenceWarning: Stochastic Optimizer: Maximum iterations (200) reached and the optimization hasn't converged yet.\n",
      "  warnings.warn(\n",
      " 50%|█████     | 5/10 [00:11<00:11,  2.25s/it]"
     ]
    },
    {
     "name": "stdout",
     "output_type": "stream",
     "text": [
      "Best model for inliers: 3\n",
      "Best model for outliers: 4\n"
     ]
    },
    {
     "name": "stderr",
     "output_type": "stream",
     "text": [
      "/home/msesia/.local/lib/python3.8/site-packages/sklearn/neural_network/_multilayer_perceptron.py:692: ConvergenceWarning: Stochastic Optimizer: Maximum iterations (200) reached and the optimization hasn't converged yet.\n",
      "  warnings.warn(\n",
      " 60%|██████    | 6/10 [00:13<00:08,  2.21s/it]"
     ]
    },
    {
     "name": "stdout",
     "output_type": "stream",
     "text": [
      "Best model for inliers: 3\n",
      "Best model for outliers: 4\n"
     ]
    },
    {
     "name": "stderr",
     "output_type": "stream",
     "text": [
      "/home/msesia/.local/lib/python3.8/site-packages/sklearn/neural_network/_multilayer_perceptron.py:692: ConvergenceWarning: Stochastic Optimizer: Maximum iterations (200) reached and the optimization hasn't converged yet.\n",
      "  warnings.warn(\n",
      "/home/msesia/.local/lib/python3.8/site-packages/sklearn/neural_network/_multilayer_perceptron.py:692: ConvergenceWarning: Stochastic Optimizer: Maximum iterations (200) reached and the optimization hasn't converged yet.\n",
      "  warnings.warn(\n"
     ]
    },
    {
     "name": "stdout",
     "output_type": "stream",
     "text": [
      "Best model for inliers: 3\n"
     ]
    },
    {
     "name": "stderr",
     "output_type": "stream",
     "text": [
      "\r",
      " 70%|███████   | 7/10 [00:16<00:07,  2.39s/it]"
     ]
    },
    {
     "name": "stdout",
     "output_type": "stream",
     "text": [
      "Best model for outliers: 4\n"
     ]
    },
    {
     "name": "stderr",
     "output_type": "stream",
     "text": [
      "/home/msesia/.local/lib/python3.8/site-packages/sklearn/neural_network/_multilayer_perceptron.py:692: ConvergenceWarning: Stochastic Optimizer: Maximum iterations (200) reached and the optimization hasn't converged yet.\n",
      "  warnings.warn(\n",
      " 80%|████████  | 8/10 [00:18<00:04,  2.35s/it]"
     ]
    },
    {
     "name": "stdout",
     "output_type": "stream",
     "text": [
      "Best model for inliers: 3\n",
      "Best model for outliers: 4\n"
     ]
    },
    {
     "name": "stderr",
     "output_type": "stream",
     "text": [
      "/home/msesia/.local/lib/python3.8/site-packages/sklearn/neural_network/_multilayer_perceptron.py:692: ConvergenceWarning: Stochastic Optimizer: Maximum iterations (200) reached and the optimization hasn't converged yet.\n",
      "  warnings.warn(\n",
      " 90%|█████████ | 9/10 [00:20<00:02,  2.30s/it]"
     ]
    },
    {
     "name": "stdout",
     "output_type": "stream",
     "text": [
      "Best model for inliers: 3\n",
      "Best model for outliers: 4\n"
     ]
    },
    {
     "name": "stderr",
     "output_type": "stream",
     "text": [
      "/home/msesia/.local/lib/python3.8/site-packages/sklearn/neural_network/_multilayer_perceptron.py:692: ConvergenceWarning: Stochastic Optimizer: Maximum iterations (200) reached and the optimization hasn't converged yet.\n",
      "  warnings.warn(\n",
      "100%|██████████| 10/10 [00:23<00:00,  2.31s/it]"
     ]
    },
    {
     "name": "stdout",
     "output_type": "stream",
     "text": [
      "Best model for inliers: 3\n",
      "Best model for outliers: 4\n"
     ]
    },
    {
     "name": "stderr",
     "output_type": "stream",
     "text": [
      "\n"
     ]
    },
    {
     "data": {
      "image/png": "[encoded data removed]",
      "text/plain": [
       "<Figure size 504x216 with 2 Axes>"
      ]
     },
     "metadata": {
      "needs_background": "light"
     },
     "output_type": "display_data"
    }
   ],
   "source": [
    "from methods_cv import IntegrativeConformal\n",
    "\n",
    "# Extract the inliers from the data\n",
    "X_in = X[Y==0]\n",
    "X_out = X[Y==1]\n",
    "\n",
    "# Choose a family of one-class classifiers\n",
    "bboxes_one = bbox_occ_list\n",
    "bboxes_two = bbox_bc_list\n",
    "\n",
    "# Compute the p-values\n",
    "method_int = IntegrativeConformal(X_in, X_out, bboxes_one=bbox_occ_list, bboxes_two=bboxes_two,\n",
    "                                       n_folds=5, tuning=True)\n",
    "pvals_int, pvals_int_0, pvals_int_1 = method_int.compute_pvalues(X_test, return_prepvals=True)\n",
    "\n",
    "## Plot the p-values\n",
    "fig, axs = plt.subplots(1,2, figsize=(7,3))\n",
    "fig.tight_layout()\n",
    "plt.subplots_adjust(wspace=0.3)\n",
    "axs[0].hist(pvals_int[Y_test==0], color=\"blue\")\n",
    "axs[1].hist(pvals_int[Y_test==1], color=\"red\")  \n",
    "axs[0].title.set_text('Inliers')\n",
    "axs[1].title.set_text('Outliers')\n",
    "plt.show()"
   ]
  },
  {
   "cell_type": "markdown",
   "id": "78e46509",
   "metadata": {},
   "source": [
    "## Conformal p-values via weighted one-class classification"
   ]
  },
  {
   "cell_type": "code",
   "execution_count": null,
   "id": "f443526f",
   "metadata": {},
   "outputs": [],
   "source": [
    "from methods_cv import IntegrativeConformal\n",
    "\n",
    "# Extract the inliers from the data\n",
    "X_in = X[Y==0]\n",
    "X_out = X[Y==1]\n",
    "\n",
    "# Choose a family of one-class classifiers\n",
    "bboxes_one = [bbox_occ]\n",
    "\n",
    "# Compute the p-values\n",
    "method_woc = IntegrativeConformal(X_in, X_out, bboxes_one=bboxes_one, n_folds=10, tuning=True, verbose=False)\n",
    "pvals_woneclass, pvals_woneclass_0, pvals_woneclass_1 = method_woc.compute_pvalues(X_test, return_prepvals=True)\n",
    "\n",
    "## Plot the p-values\n",
    "fig, axs = plt.subplots(1,2, figsize=(7,3))\n",
    "fig.tight_layout()\n",
    "plt.subplots_adjust(wspace=0.3)\n",
    "axs[0].hist(pvals_woneclass[Y_test==0], color=\"blue\")\n",
    "axs[1].hist(pvals_woneclass[Y_test==1], color=\"red\")  \n",
    "axs[0].title.set_text('Inliers')\n",
    "axs[1].title.set_text('Outliers')\n",
    "axs[0].set_xlim(0,1)\n",
    "axs[1].set_xlim(0,1)\n",
    "plt.show()\n",
    "\n",
    "## Plot the preliminary p-values\n",
    "fig, axs = plt.subplots(2,2, figsize=(7,6))\n",
    "fig.tight_layout()\n",
    "plt.subplots_adjust(wspace=0.3)\n",
    "axs[0,0].hist(pvals_woneclass_0[Y_test==0], color=\"blue\")\n",
    "axs[0,1].hist(pvals_woneclass_0[Y_test==1], color=\"red\")  \n",
    "axs[1,0].hist(pvals_woneclass_1[Y_test==0], color=\"red\")\n",
    "axs[1,1].hist(pvals_woneclass_1[Y_test==1], color=\"blue\")  \n",
    "axs[0,0].title.set_text('H0: Inliers')\n",
    "axs[0,1].title.set_text('H0: Outliers')\n",
    "axs[1,0].title.set_text('H1: Inliers')\n",
    "axs[1,1].title.set_text('H1: Outliers')\n",
    "plt.show()\n",
    "\n",
    "np.mean(pvals_woneclass[Y_test==1])"
   ]
  },
  {
   "cell_type": "markdown",
   "id": "e5754a92",
   "metadata": {},
   "source": [
    "## Integrative (one-class only) weighted ensemble"
   ]
  },
  {
   "cell_type": "code",
   "execution_count": null,
   "id": "b5c9aeac",
   "metadata": {},
   "outputs": [],
   "source": [
    "from methods_split import IntegrativeConformal\n",
    "\n",
    "# Extract the inliers from the data\n",
    "X_in = X[Y==0]\n",
    "X_out = X[Y==1]\n",
    "\n",
    "# Choose a family of one-class classifiers\n",
    "bboxes_one = bbox_occ_list\n",
    "bboxes_two = bbox_bc_list\n",
    "\n",
    "# Compute the p-values\n",
    "method_woc_ens = IntegrativeConformal(X_in, X_out, \n",
    "                                           bboxes_one=bbox_occ_list, bboxes_two=[],\n",
    "                                           calib_size=0.5, ratio=True, tuning=True)\n",
    "pvals_woneclass_ens = method_woc_ens.compute_pvalues(X_test)\n",
    "\n",
    "## Plot the p-values\n",
    "fig, axs = plt.subplots(1,2, figsize=(7,3))\n",
    "fig.tight_layout()\n",
    "plt.subplots_adjust(wspace=0.3)\n",
    "axs[0].hist(pvals_woneclass_ens[Y_test==0], color=\"blue\")\n",
    "axs[1].hist(pvals_woneclass_ens[Y_test==1], color=\"red\")  \n",
    "axs[0].title.set_text('Inliers')\n",
    "axs[1].title.set_text('Outliers')\n",
    "axs[0].set_xlim(0,1)\n",
    "axs[1].set_xlim(0,1)\n",
    "plt.show()"
   ]
  },
  {
   "cell_type": "markdown",
   "id": "5cc3d2ba",
   "metadata": {},
   "source": [
    "## Binary ensemble (unweighted)"
   ]
  },
  {
   "cell_type": "code",
   "execution_count": null,
   "id": "1c105121",
   "metadata": {},
   "outputs": [],
   "source": [
    "from methods_split import IntegrativeConformal\n",
    "\n",
    "# Extract the inliers from the data\n",
    "X_in = X[Y==0]\n",
    "X_out = X[Y==1]\n",
    "\n",
    "# Choose a family of one-class classifiers\n",
    "bboxes_one = bbox_occ_list\n",
    "bboxes_two = bbox_bc_list\n",
    "\n",
    "# Compute the p-values\n",
    "method_bin_ens = IntegrativeConformal(X_in, X_out, \n",
    "                                           bboxes_two=bboxes_two,\n",
    "                                           calib_size=0.5, ratio=False, tuning=True)\n",
    "pvals_bin_ens = method_bin_ens.compute_pvalues(X_test)\n",
    "\n",
    "## Plot the p-values\n",
    "fig, axs = plt.subplots(1,2, figsize=(7,3))\n",
    "fig.tight_layout()\n",
    "plt.subplots_adjust(wspace=0.3)\n",
    "axs[0].hist(pvals_bin_ens[Y_test==0], color=\"blue\")\n",
    "axs[1].hist(pvals_bin_ens[Y_test==1], color=\"red\")  \n",
    "axs[0].title.set_text('Inliers')\n",
    "axs[1].title.set_text('Outliers')\n",
    "plt.show()"
   ]
  },
  {
   "cell_type": "markdown",
   "id": "397e29d2",
   "metadata": {},
   "source": [
    "## Unweighted OCC ensemble"
   ]
  },
  {
   "cell_type": "code",
   "execution_count": null,
   "id": "cd77ac55",
   "metadata": {},
   "outputs": [],
   "source": [
    "from methods_split import IntegrativeConformal\n",
    "\n",
    "# Extract the inliers from the data\n",
    "X_in = X[Y==0]\n",
    "X_out = X[Y==1]\n",
    "\n",
    "bboxes_two = bbox_occ_list\n",
    "\n",
    "# Compute the p-values\n",
    "method_unw_ens = IntegrativeConformal(X_in, X_out, \n",
    "                                           bboxes_one=bbox_occ_list, #bboxes_two=bboxes_two,\n",
    "                                           calib_size=0.5, ratio=False, tuning=True)\n",
    "pvals_unw_ens = method_unw_ens.compute_pvalues(X_test)\n",
    "\n",
    "## Plot the p-values\n",
    "fig, axs = plt.subplots(1,2, figsize=(7,3))\n",
    "fig.tight_layout()\n",
    "plt.subplots_adjust(wspace=0.3)\n",
    "axs[0].hist(pvals_unw_ens[Y_test==0], color=\"blue\")\n",
    "axs[1].hist(pvals_unw_ens[Y_test==1], color=\"red\")  \n",
    "axs[0].title.set_text('Inliers')\n",
    "axs[1].title.set_text('Outliers')\n",
    "plt.show()"
   ]
  },
  {
   "cell_type": "markdown",
   "id": "642e955f",
   "metadata": {},
   "source": [
    "## Compare all p-values"
   ]
  },
  {
   "cell_type": "code",
   "execution_count": null,
   "id": "b45e8574",
   "metadata": {},
   "outputs": [],
   "source": [
    "def qq_plot(data, reference, ax, color=None, label=None, logarithm=False):\n",
    "    sample_size = len(data)\n",
    "    qq = np.ones([sample_size, 2])\n",
    "    np.random.shuffle(data)\n",
    "    qq[:, 0] = np.sort(reference)\n",
    "    qq[:, 1] = np.sort(data[0:sample_size])\n",
    "    if color is None:\n",
    "        ax.plot(qq[:,0], qq[:,1], label=label, alpha=0.75)\n",
    "    else:\n",
    "        ax.plot(qq[:,0], qq[:,1], color=color, label=label, alpha=0.75)\n",
    "    ax.plot([0,1], [0,1], color=\"black\", linewidth=0.75, linestyle=\"dashed\")\n",
    "    ax.set_xlabel(\"Theoretical (uniform)\")\n",
    "    ax.set_ylabel(\"Empirical\")\n",
    "    if logarithm:\n",
    "        ax.set_xscale('log')\n",
    "        ax.set_yscale('log')        \n",
    "        \n",
    "fig, axs = plt.subplots(1,2, figsize=(8,4), dpi= 100)\n",
    "\n",
    "logarithm = False\n",
    "U = np.random.uniform(size = (len(Y_test),))\n",
    "for y in [0,1]:\n",
    "    qq_plot(pvals_int[Y_test==y], U[Y_test==y], axs[y], label=\"Integrative\", color='#9400d3',\n",
    "            logarithm=logarithm)\n",
    "    qq_plot(pvals_woneclass_ens[Y_test==y], U[Y_test==y], axs[y], label=\"Integrative (OCC)\", color='#940013',\n",
    "            logarithm=logarithm)\n",
    "    qq_plot(pvals_unw_ens[Y_test==y], U[Y_test==y], axs[y], label=\"OCC (ensemble)\", color='#ff1493',\n",
    "            logarithm=logarithm)\n",
    "    qq_plot(pvals_bin_ens[Y_test==y], U[Y_test==y], axs[y], label=\"Binary (ensemble)\", color='#6a5acd',\n",
    "            logarithm=logarithm)\n",
    "    qq_plot(pvals_binary[Y_test==y], U[Y_test==y], axs[y], label=\"Binary (single)\", color=\"#6495ED\",\n",
    "            logarithm=logarithm)\n",
    "    qq_plot(pvals_oneclass[Y_test==y], U[Y_test==y], axs[y], label=\"OCC (single)\", color='#FFA500',\n",
    "            logarithm=logarithm)\n",
    "\n",
    "plt.legend(loc=(1,0.5))\n",
    "plt.show()\n",
    "\n",
    "\n",
    "fig, axs = plt.subplots(1,2, figsize=(8,4), dpi= 100)\n",
    "\n",
    "logarithm = False\n",
    "U = np.random.uniform(size = (len(Y_test),))\n",
    "for y in [0,1]:\n",
    "    qq_plot(pvals_int[Y_test==y], U[Y_test==y], axs[y], label=\"Integrative\", color='#9400d3',\n",
    "            logarithm=logarithm)\n",
    "    qq_plot(pvals_woneclass_ens[Y_test==y], U[Y_test==y], axs[y], label=\"Integrative (OCC)\", color='#940013',\n",
    "            logarithm=logarithm)\n",
    "    qq_plot(pvals_unw_ens[Y_test==y], U[Y_test==y], axs[y], label=\"OCC (ensemble)\", color='#ff1493',\n",
    "            logarithm=logarithm)\n",
    "    qq_plot(pvals_bin_ens[Y_test==y], U[Y_test==y], axs[y], label=\"Binary (ensemble)\", color='#6a5acd',\n",
    "            logarithm=logarithm)\n",
    "    qq_plot(pvals_binary[Y_test==y], U[Y_test==y], axs[y], label=\"Binary (MLP)\", color=\"#6495ED\",\n",
    "            logarithm=logarithm)\n",
    "    qq_plot(pvals_oneclass[Y_test==y], U[Y_test==y], axs[y], label=\"OCC (IF)\", color='#FFA500',\n",
    "            logarithm=logarithm)\n",
    "\n",
    "plt.xlim(0, 0.3)\n",
    "plt.ylim(0, 0.05)\n",
    "plt.legend(loc=(1,0.5))\n",
    "plt.show()"
   ]
  },
  {
   "cell_type": "code",
   "execution_count": null,
   "id": "991cc455",
   "metadata": {},
   "outputs": [],
   "source": []
  },
  {
   "cell_type": "code",
   "execution_count": null,
   "id": "6e4c9507",
   "metadata": {},
   "outputs": [],
   "source": []
  }
 ],
 "metadata": {
  "kernelspec": {
   "display_name": "Python 3",
   "language": "python",
   "name": "python3"
  },
  "language_info": {
   "codemirror_mode": {
    "name": "ipython",
    "version": 3
   },
   "file_extension": ".py",
   "mimetype": "text/x-python",
   "name": "python",
   "nbconvert_exporter": "python",
   "pygments_lexer": "ipython3",
   "version": "3.8.10"
  }
 },
 "nbformat": 4,
 "nbformat_minor": 5
}
