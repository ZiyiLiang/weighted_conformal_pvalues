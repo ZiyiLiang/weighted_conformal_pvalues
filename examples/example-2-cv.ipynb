{
 "cells": [
  {
   "cell_type": "code",
   "execution_count": 49,
   "id": "5485011f",
   "metadata": {},
   "outputs": [
    {
     "name": "stdout",
     "output_type": "stream",
     "text": [
      "The autoreload extension is already loaded. To reload it, use:\n",
      "  %reload_ext autoreload\n"
     ]
    }
   ],
   "source": [
    "%load_ext autoreload\n",
    "%autoreload 2\n",
    "\n",
    "import matplotlib.pyplot as plt\n",
    "plt.rcParams['figure.figsize'] = [5, 5]\n",
    "\n",
    "import numpy as np\n",
    "import pandas as pd\n",
    "import seaborn as sns\n",
    "import statistics as stats\n",
    "from tqdm import tqdm\n",
    "import pdb\n",
    "import copy\n",
    "\n",
    "import sys\n",
    "import os\n",
    "\n",
    "#########################\n",
    "# Experiment parameters #\n",
    "#########################\n",
    "from sklearn.base import clone\n",
    "from sklearn import svm\n",
    "from sklearn.neural_network import MLPClassifier\n",
    "from sklearn.neighbors import KNeighborsClassifier\n",
    "from sklearn.ensemble import IsolationForest\n",
    "from sklearn.neighbors import LocalOutlierFactor\n",
    "from sklearn.discriminant_analysis import QuadraticDiscriminantAnalysis\n",
    "from sklearn.ensemble import RandomForestClassifier\n",
    "from sklearn.svm import SVC\n",
    "\n",
    "sys.path.append('../third_party')\n",
    "sys.path.append('../methods')"
   ]
  },
  {
   "cell_type": "markdown",
   "id": "fbe61b6b",
   "metadata": {},
   "source": [
    "## Data generation"
   ]
  },
  {
   "cell_type": "code",
   "execution_count": 50,
   "id": "6564d8d0",
   "metadata": {},
   "outputs": [
    {
     "name": "stdout",
     "output_type": "stream",
     "text": [
      "Number of inliers in training/calibration data: 53.\n",
      "Number of outliers in training/calibration data: 47.\n",
      "Number of inliers in test data: 60.\n",
      "Number of outliers in test data: 40.\n"
     ]
    }
   ],
   "source": [
    "from models import GaussianMixture, ConcentricCircles, ConcentricCircles2, ConcentricCirclesMixture, BinomialModel\n",
    "\n",
    "random_state = 2022\n",
    "\n",
    "model_name = \"BinomialModel\"\n",
    "\n",
    "if model_name == \"GaussianMixture\":\n",
    "    p = 20        # Number of features\n",
    "    a = 0.25         # Signal amplitude\n",
    "    model = GaussianMixture(p, a, random_state=random_state)\n",
    "    purity = 0.8    # Proportion of inliers\n",
    "    n = 1000          # Number of observations\n",
    "    \n",
    "elif model_name == \"circles\":\n",
    "    p = 1000        # Number of features\n",
    "    a = 0.7        # Signal amplitude\n",
    "    model = ConcentricCirclesMixture(p, a, random_state=random_state)\n",
    "    purity = 0.5      # Proportion of inliers\n",
    "    n = 1000          # Number of observations\n",
    "\n",
    "elif model_name == \"BinomialModel\":\n",
    "    p = 100        # Number of features\n",
    "    a = 5          # Signal amplitude\n",
    "    model = BinomialModel(p, a, random_state=random_state)\n",
    "    purity = 0.5     # Proportion of inliers\n",
    "    n = 100          # Number of observations\n",
    "    \n",
    "else:\n",
    "    print(\"Error: unknown model name!\")\n",
    "    \n",
    "    \n",
    "n_test = 100     # Number of test points\n",
    "purity_test = 0.5 # Proportion of inliers in test set\n",
    "\n",
    "X, Y = model.sample(n, purity)\n",
    "X_test, Y_test = model.sample(n_test, purity)\n",
    "\n",
    "print(\"Number of inliers in training/calibration data: {}.\".format(np.sum(Y==0)))\n",
    "print(\"Number of outliers in training/calibration data: {}.\".format(np.sum(Y==1)))\n",
    "\n",
    "print(\"Number of inliers in test data: {}.\".format(np.sum(Y_test==0)))\n",
    "print(\"Number of outliers in test data: {}.\".format(np.sum(Y_test==1)))"
   ]
  },
  {
   "cell_type": "markdown",
   "id": "c2332044",
   "metadata": {},
   "source": [
    "## Conformal p-values via binary classification"
   ]
  },
  {
   "cell_type": "code",
   "execution_count": 51,
   "id": "aeef4d7e",
   "metadata": {},
   "outputs": [],
   "source": [
    "from sklearn.ensemble import RandomForestClassifier \n",
    "from sklearn.neighbors import KNeighborsClassifier\n",
    "from sklearn.svm import SVC\n",
    "from sklearn.discriminant_analysis import QuadraticDiscriminantAnalysis\n",
    "from sklearn.naive_bayes import GaussianNB\n",
    "from sklearn.neural_network import MLPClassifier\n",
    "\n",
    "# Define list of possible two-class classifiers with desired hyper-parameters\n",
    "bbox_bc_list = [RandomForestClassifier(random_state=random_state),\n",
    "                KNeighborsClassifier(),\n",
    "                SVC(probability=True),\n",
    "                GaussianNB(),\n",
    "                #QuadraticDiscriminantAnalysis(),   \n",
    "                MLPClassifier(max_iter=500, random_state=random_state) \n",
    "               ]\n",
    "\n",
    "# Choose a binary classifier algorithm\n",
    "bbox_bc = bbox_bc_list[2]"
   ]
  },
  {
   "cell_type": "code",
   "execution_count": 52,
   "id": "3d223391",
   "metadata": {},
   "outputs": [
    {
     "name": "stdout",
     "output_type": "stream",
     "text": [
      "Fitting the black-box model on 26 inliers and 47 outliers... done.\n",
      "Calculating conformity scores for 27 hold-out inliers... done.\n",
      "Calculating conformity scores for 100 test points... done.\n"
     ]
    },
    {
     "data": {
      "image/png": "[encoded data removed]",
      "text/plain": [
       "<Figure size 504x216 with 2 Axes>"
      ]
     },
     "metadata": {
      "needs_background": "light"
     },
     "output_type": "display_data"
    }
   ],
   "source": [
    "from methods_split import BinaryConformal as BinaryConformal\n",
    "\n",
    "# Extract the inliers from the data\n",
    "X_in = X[np.where(Y==0)[0]]\n",
    "X_out = X[np.where(Y==1)[0]]\n",
    "\n",
    "# Compute the p-values\n",
    "method_binary = BinaryConformal(X_in, X_out, bbox_bc, calib_size=0.5, random_state=29)\n",
    "pvals_binary = method_binary.compute_pvalues(X_test)\n",
    "\n",
    "## Plot the p-values\n",
    "fig, axs = plt.subplots(1,2, figsize=(7,3))\n",
    "fig.tight_layout()\n",
    "plt.subplots_adjust(wspace=0.3)\n",
    "axs[0].hist(pvals_binary[Y_test==0], color=\"blue\")\n",
    "axs[1].hist(pvals_binary[Y_test==1], color=\"red\")  \n",
    "axs[0].title.set_text('Inliers')\n",
    "axs[1].title.set_text('Outliers')\n",
    "axs[0].set_xlim(0,1)\n",
    "axs[1].set_xlim(0,1)\n",
    "plt.show()"
   ]
  },
  {
   "cell_type": "code",
   "execution_count": 53,
   "id": "547689eb",
   "metadata": {},
   "outputs": [
    {
     "name": "stdout",
     "output_type": "stream",
     "text": [
      "Fitting the black-box model 0 on 47 inliers and 47 outliers... done.\n",
      "Fitting the black-box model 1 on 47 inliers and 47 outliers... done.\n",
      "Fitting the black-box model 2 on 47 inliers and 47 outliers... done.\n",
      "Fitting the black-box model 3 on 48 inliers and 47 outliers... done.\n",
      "Fitting the black-box model 4 on 48 inliers and 47 outliers... done.\n",
      "Fitting the black-box model 5 on 48 inliers and 47 outliers... done.\n",
      "Fitting the black-box model 6 on 48 inliers and 47 outliers... done.\n",
      "Fitting the black-box model 7 on 48 inliers and 47 outliers... done.\n",
      "Fitting the black-box model 8 on 48 inliers and 47 outliers... done.\n",
      "Fitting the black-box model 9 on 48 inliers and 47 outliers... done.\n"
     ]
    },
    {
     "data": {
      "image/png": "[encoded data removed]",
      "text/plain": [
       "<Figure size 504x216 with 2 Axes>"
      ]
     },
     "metadata": {
      "needs_background": "light"
     },
     "output_type": "display_data"
    }
   ],
   "source": [
    "from methods_cv import BinaryConformal as CVBinaryConformal\n",
    "\n",
    "# Extract the inliers from the data\n",
    "X_in = X[np.where(Y==0)[0]]\n",
    "X_out = X[np.where(Y==1)[0]]\n",
    "\n",
    "# Compute the p-values\n",
    "method_binary_cv = CVBinaryConformal(X_in, X_out, bbox_bc, n_folds=10, random_state=29)\n",
    "pvals_binary_cv = method_binary_cv.compute_pvalues(X_test)\n",
    "\n",
    "## Plot the p-values\n",
    "fig, axs = plt.subplots(1,2, figsize=(7,3))\n",
    "fig.tight_layout()\n",
    "plt.subplots_adjust(wspace=0.3)\n",
    "axs[0].hist(pvals_binary_cv[Y_test==0], color=\"blue\")\n",
    "axs[1].hist(pvals_binary_cv[Y_test==1], color=\"red\")  \n",
    "axs[0].title.set_text('Inliers')\n",
    "axs[1].title.set_text('Outliers')\n",
    "axs[0].set_xlim(0,1)\n",
    "axs[1].set_xlim(0,1)\n",
    "plt.show()"
   ]
  },
  {
   "cell_type": "code",
   "execution_count": 54,
   "id": "85697dc7",
   "metadata": {},
   "outputs": [
    {
     "data": {
      "image/png": "[encoded data removed]",
      "text/plain": [
       "<Figure size 800x400 with 2 Axes>"
      ]
     },
     "metadata": {
      "needs_background": "light"
     },
     "output_type": "display_data"
    }
   ],
   "source": [
    "def qq_plot(data, reference, ax, color=None, label=None, logarithm=False):\n",
    "    sample_size = len(data)\n",
    "    qq = np.ones([sample_size, 2])\n",
    "    np.random.shuffle(data)\n",
    "    qq[:, 0] = np.sort(reference)\n",
    "    qq[:, 1] = np.sort(data[0:sample_size])\n",
    "    if color is None:\n",
    "        ax.plot(qq[:,0], qq[:,1], label=label, alpha=0.75)\n",
    "    else:\n",
    "        ax.plot(qq[:,0], qq[:,1], color=color, label=label, alpha=0.75)\n",
    "    ax.plot([0,1], [0,1], color=\"black\", linewidth=0.75, linestyle=\"dashed\")\n",
    "    ax.set_xlabel(\"Theoretical (uniform)\")\n",
    "    ax.set_ylabel(\"Empirical\")\n",
    "    if logarithm:\n",
    "        ax.set_xscale('log')\n",
    "        ax.set_yscale('log')        \n",
    "        \n",
    "fig, axs = plt.subplots(1,2, figsize=(8,4), dpi= 100)\n",
    "\n",
    "logarithm = False\n",
    "U = np.random.uniform(size = (len(Y_test),))\n",
    "for y in [0,1]:\n",
    "    qq_plot(pvals_binary[Y_test==y], U[Y_test==y], axs[y], label=\"Binary (split)\", color='black',\n",
    "            logarithm=logarithm)\n",
    "    qq_plot(pvals_binary_cv[Y_test==y], U[Y_test==y], axs[y], label=\"Binary (cv)\", color='darkgreen',\n",
    "            logarithm=logarithm)\n",
    "    \n",
    "\n",
    "plt.legend()\n",
    "plt.show()"
   ]
  },
  {
   "cell_type": "markdown",
   "id": "0cd90a65",
   "metadata": {},
   "source": [
    "## Conformal p-values via one-class classification"
   ]
  },
  {
   "cell_type": "code",
   "execution_count": 55,
   "id": "0b7e6d80",
   "metadata": {},
   "outputs": [],
   "source": [
    "# Define list of possible one-class classifiers with desired hyper-parameters\n",
    "bbox_occ_list = [svm.OneClassSVM(kernel='rbf'),\n",
    "                 svm.OneClassSVM(kernel='sigmoid'),\n",
    "                 svm.OneClassSVM(kernel='poly', degree=3),\n",
    "                 IsolationForest(contamination = 'auto', random_state=random_state),\n",
    "                 LocalOutlierFactor(contamination='auto', novelty=True)\n",
    "               ]\n",
    "\n",
    "# Choose a one-class classifier algorithm\n",
    "bbox_occ = bbox_occ_list[1]"
   ]
  },
  {
   "cell_type": "code",
   "execution_count": 56,
   "id": "9986061b",
   "metadata": {},
   "outputs": [
    {
     "name": "stdout",
     "output_type": "stream",
     "text": [
      "Fitting the black-box model on 26 data points... done.\n",
      "Calculating conformity scores for 27 hold-out data points... done.\n",
      "Calculating conformity scores for 100 test points... done.\n"
     ]
    },
    {
     "data": {
      "image/png": "[encoded data removed]",
      "text/plain": [
       "<Figure size 504x216 with 2 Axes>"
      ]
     },
     "metadata": {
      "needs_background": "light"
     },
     "output_type": "display_data"
    }
   ],
   "source": [
    "from methods_split import OneClassConformal\n",
    "\n",
    "# Extract the inliers from the data\n",
    "X_in = X[Y==0]\n",
    "\n",
    "# Compute the p-values\n",
    "method_oneclass = OneClassConformal(X_in, bbox_occ, calib_size=0.5)\n",
    "pvals_oneclass = method_oneclass.compute_pvalues(X_test)\n",
    "\n",
    "## Plot the p-values\n",
    "fig, axs = plt.subplots(1,2, figsize=(7,3))\n",
    "fig.tight_layout()\n",
    "plt.subplots_adjust(wspace=0.3)\n",
    "axs[0].hist(pvals_oneclass[Y_test==0], color=\"blue\")\n",
    "axs[1].hist(pvals_oneclass[Y_test==1], color=\"red\")  \n",
    "axs[0].title.set_text('Inliers')\n",
    "axs[1].title.set_text('Outliers')\n",
    "axs[0].set_xlim(0,1)\n",
    "axs[1].set_xlim(0,1)\n",
    "plt.show()"
   ]
  },
  {
   "cell_type": "code",
   "execution_count": null,
   "id": "6e642651",
   "metadata": {},
   "outputs": [
    {
     "name": "stdout",
     "output_type": "stream",
     "text": [
      "Fitting the black-box model 0 on 47 inliers... done.\n",
      "Fitting the black-box model 1 on 47 inliers... done.\n",
      "Fitting the black-box model 2 on 47 inliers... done.\n",
      "Fitting the black-box model 3 on 48 inliers... done.\n",
      "Fitting the black-box model 4 on 48 inliers... done.\n",
      "Fitting the black-box model 5 on 48 inliers... done.\n",
      "Fitting the black-box model 6 on 48 inliers... done.\n",
      "Fitting the black-box model 7 on 48 inliers... done.\n",
      "Fitting the black-box model 8 on 48 inliers... done.\n",
      "Fitting the black-box model 9 on 48 inliers... done.\n"
     ]
    }
   ],
   "source": [
    "from methods_cv import OneClassConformal as CVOneClassConformal\n",
    "\n",
    "# Extract the inliers from the data\n",
    "X_in = X[Y==0]\n",
    "\n",
    "# Compute the p-values\n",
    "method_oneclass_cv = CVOneClassConformal(X_in, bbox_occ, n_folds=10)\n",
    "pvals_oneclass_cv = method_oneclass_cv.compute_pvalues(X_test)\n",
    "\n",
    "## Plot the p-values\n",
    "fig, axs = plt.subplots(1,2, figsize=(7,3))\n",
    "fig.tight_layout()\n",
    "plt.subplots_adjust(wspace=0.3)\n",
    "axs[0].hist(pvals_oneclass_cv[Y_test==0], color=\"blue\")\n",
    "axs[1].hist(pvals_oneclass_cv[Y_test==1], color=\"red\")  \n",
    "axs[0].title.set_text('Inliers')\n",
    "axs[1].title.set_text('Outliers')\n",
    "axs[0].set_xlim(0,1)\n",
    "axs[1].set_xlim(0,1)\n",
    "plt.show()"
   ]
  },
  {
   "cell_type": "code",
   "execution_count": null,
   "id": "b77b1d5c",
   "metadata": {},
   "outputs": [],
   "source": [
    "def qq_plot(data, reference, ax, color=None, label=None, logarithm=False):\n",
    "    sample_size = len(data)\n",
    "    qq = np.ones([sample_size, 2])\n",
    "    np.random.shuffle(data)\n",
    "    qq[:, 0] = np.sort(reference)\n",
    "    qq[:, 1] = np.sort(data[0:sample_size])\n",
    "    if color is None:\n",
    "        ax.plot(qq[:,0], qq[:,1], label=label, alpha=0.75)\n",
    "    else:\n",
    "        ax.plot(qq[:,0], qq[:,1], color=color, label=label, alpha=0.75)\n",
    "    ax.plot([0,1], [0,1], color=\"black\", linewidth=0.75, linestyle=\"dashed\")\n",
    "    ax.set_xlabel(\"Theoretical (uniform)\")\n",
    "    ax.set_ylabel(\"Empirical\")\n",
    "    if logarithm:\n",
    "        ax.set_xscale('log')\n",
    "        ax.set_yscale('log')        \n",
    "        \n",
    "fig, axs = plt.subplots(1,2, figsize=(8,4), dpi= 100)\n",
    "\n",
    "logarithm = False\n",
    "U = np.random.uniform(size = (len(Y_test),))\n",
    "for y in [0,1]:\n",
    "    qq_plot(pvals_oneclass[Y_test==y], U[Y_test==y], axs[y], label=\"OCC (split)\", color='black',\n",
    "            logarithm=logarithm)\n",
    "    qq_plot(pvals_oneclass_cv[Y_test==y], U[Y_test==y], axs[y], label=\"OCC (cv)\", color='darkgreen',\n",
    "            logarithm=logarithm)\n",
    "    \n",
    "\n",
    "plt.legend()\n",
    "plt.show()"
   ]
  },
  {
   "cell_type": "markdown",
   "id": "8ec278c0",
   "metadata": {},
   "source": [
    "## Integrative conformal p-values"
   ]
  },
  {
   "cell_type": "code",
   "execution_count": null,
   "id": "1f7c6906",
   "metadata": {},
   "outputs": [],
   "source": [
    "from methods_split import IntegrativeConformal\n",
    "\n",
    "# Extract the inliers from the data\n",
    "X_in = X[Y==0]\n",
    "X_out = X[Y==1]\n",
    "\n",
    "# Choose a family of one-class classifiers\n",
    "bboxes_one = bbox_occ_list\n",
    "\n",
    "# Compute the p-values\n",
    "method_int = IntegrativeConformal(X_in, X_out, bboxes_one=bboxes_one, calib_size=0.5, tuning=True)\n",
    "pvals_int = method_int.compute_pvalues(X_test, return_prepvals=False)\n",
    "\n",
    "## Plot the p-values\n",
    "fig, axs = plt.subplots(1,2, figsize=(7,3))\n",
    "fig.tight_layout()\n",
    "plt.subplots_adjust(wspace=0.3)\n",
    "axs[0].hist(pvals_int[Y_test==0], color=\"blue\")\n",
    "axs[1].hist(pvals_int[Y_test==1], color=\"red\")  \n",
    "axs[0].title.set_text('Inliers')\n",
    "axs[1].title.set_text('Outliers')\n",
    "axs[0].set_xlim(0,1)\n",
    "axs[1].set_xlim(0,1)\n",
    "plt.show()"
   ]
  },
  {
   "cell_type": "code",
   "execution_count": null,
   "id": "b0c62bb2",
   "metadata": {},
   "outputs": [],
   "source": [
    "from methods_cv import IntegrativeConformal as CVIntegrativeConformal\n",
    "\n",
    "# Extract the inliers from the data\n",
    "X_in = X[Y==0]\n",
    "X_out = X[Y==1]\n",
    "\n",
    "# Choose a family of one-class classifiers\n",
    "bboxes_one = bbox_occ_list\n",
    "\n",
    "# Compute the p-values\n",
    "method_int_cv = CVIntegrativeConformal(X_in, X_out, \n",
    "                                       bboxes_one=bboxes_one[:-1], bboxes_two=bbox_bc_list,\n",
    "                                       n_folds=2, ratio=True, tuning=True)\n",
    "pvals_int_cv, pvals_int_cv_0, pvals_int_cv_1 = method_int_cv.compute_pvalues(X_test, return_prepvals=True)\n",
    "\n",
    "## Plot the p-values\n",
    "fig, axs = plt.subplots(1,2, figsize=(7,3))\n",
    "fig.tight_layout()\n",
    "plt.subplots_adjust(wspace=0.3)\n",
    "axs[0].hist(pvals_int_cv[Y_test==0], color=\"blue\")\n",
    "axs[1].hist(pvals_int_cv[Y_test==1], color=\"red\")  \n",
    "axs[0].title.set_text('Inliers')\n",
    "axs[1].title.set_text('Outliers')\n",
    "axs[0].set_xlim(0,1)\n",
    "axs[1].set_xlim(0,1)\n",
    "plt.show()\n",
    "\n",
    "## Plot the preliminary p-values\n",
    "fig, axs = plt.subplots(2,2, figsize=(7,6))\n",
    "fig.tight_layout()\n",
    "plt.subplots_adjust(wspace=0.3)\n",
    "axs[0,0].hist(pvals_int_cv_0[Y_test==0], color=\"blue\")\n",
    "axs[0,1].hist(pvals_int_cv_0[Y_test==1], color=\"red\")  \n",
    "axs[1,0].hist(pvals_int_cv_1[Y_test==0], color=\"red\")\n",
    "axs[1,1].hist(pvals_int_cv_1[Y_test==1], color=\"blue\")  \n",
    "axs[0,0].title.set_text('H0: Inliers')\n",
    "axs[0,1].title.set_text('H0: Outliers')\n",
    "axs[1,0].title.set_text('H1: Inliers')\n",
    "axs[1,1].title.set_text('H1: Outliers')\n",
    "axs[0,0].set_xlim(0,1)\n",
    "axs[0,1].set_xlim(0,1)\n",
    "axs[1,0].set_xlim(0,1)\n",
    "axs[1,1].set_xlim(0,1)\n",
    "plt.show()"
   ]
  },
  {
   "cell_type": "code",
   "execution_count": null,
   "id": "5ce67895",
   "metadata": {},
   "outputs": [],
   "source": [
    "def qq_plot(data, reference, ax, color=None, label=None, logarithm=False):\n",
    "    sample_size = len(data)\n",
    "    qq = np.ones([sample_size, 2])\n",
    "    np.random.shuffle(data)\n",
    "    qq[:, 0] = np.sort(reference)\n",
    "    qq[:, 1] = np.sort(data[0:sample_size])\n",
    "    if color is None:\n",
    "        ax.plot(qq[:,0], qq[:,1], label=label, alpha=0.75)\n",
    "    else:\n",
    "        ax.plot(qq[:,0], qq[:,1], color=color, label=label, alpha=0.75)\n",
    "    ax.plot([0,1], [0,1], color=\"black\", linewidth=0.75, linestyle=\"dashed\")\n",
    "    ax.set_xlabel(\"Theoretical (uniform)\")\n",
    "    ax.set_ylabel(\"Empirical\")\n",
    "    if logarithm:\n",
    "        ax.set_xscale('log')\n",
    "        ax.set_yscale('log')        \n",
    "        \n",
    "fig, axs = plt.subplots(1,2, figsize=(8,4), dpi= 100)\n",
    "\n",
    "logarithm = False\n",
    "U = np.random.uniform(size = (len(Y_test),))\n",
    "for y in [0,1]:\n",
    "    qq_plot(pvals_int[Y_test==y], U[Y_test==y], axs[y], label=\"Integrative (split)\", color='black',\n",
    "            logarithm=logarithm)\n",
    "    qq_plot(pvals_int_cv[Y_test==y], U[Y_test==y], axs[y], label=\"Integrative (cv)\", color='darkgreen',\n",
    "            logarithm=logarithm)\n",
    "    \n",
    "\n",
    "plt.legend()\n",
    "plt.show()"
   ]
  },
  {
   "cell_type": "code",
   "execution_count": null,
   "id": "32f34139",
   "metadata": {},
   "outputs": [],
   "source": []
  }
 ],
 "metadata": {
  "kernelspec": {
   "display_name": "Python 3",
   "language": "python",
   "name": "python3"
  },
  "language_info": {
   "codemirror_mode": {
    "name": "ipython",
    "version": 3
   },
   "file_extension": ".py",
   "mimetype": "text/x-python",
   "name": "python",
   "nbconvert_exporter": "python",
   "pygments_lexer": "ipython3",
   "version": "3.8.10"
  }
 },
 "nbformat": 4,
 "nbformat_minor": 5
}
