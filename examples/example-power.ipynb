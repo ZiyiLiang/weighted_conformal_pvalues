{
 "cells": [
  {
   "cell_type": "code",
   "execution_count": 211,
   "id": "226ba266",
   "metadata": {},
   "outputs": [
    {
     "name": "stdout",
     "output_type": "stream",
     "text": [
      "The autoreload extension is already loaded. To reload it, use:\n",
      "  %reload_ext autoreload\n"
     ]
    }
   ],
   "source": [
    "%load_ext autoreload\n",
    "%autoreload 2\n",
    "\n",
    "import matplotlib.pyplot as plt\n",
    "plt.rcParams['figure.figsize'] = [5, 5]\n",
    "\n",
    "import numpy as np\n",
    "import pandas as pd\n",
    "import seaborn as sns\n",
    "import statistics as stats\n",
    "from tqdm import tqdm\n",
    "import pdb\n",
    "import copy\n",
    "\n",
    "import sys\n",
    "import os\n",
    "\n",
    "#########################\n",
    "# Experiment parameters #\n",
    "#########################\n",
    "from sklearn.base import clone\n",
    "from sklearn import svm\n",
    "from sklearn.neural_network import MLPClassifier\n",
    "from sklearn.neighbors import KNeighborsClassifier\n",
    "from sklearn.ensemble import IsolationForest\n",
    "from sklearn.neighbors import LocalOutlierFactor\n",
    "from sklearn.discriminant_analysis import QuadraticDiscriminantAnalysis\n",
    "from sklearn.ensemble import RandomForestClassifier\n",
    "from sklearn.svm import SVC\n",
    "\n",
    "sys.path.append('../third_party')\n",
    "sys.path.append('../methods')"
   ]
  },
  {
   "cell_type": "markdown",
   "id": "e8d0c4f0",
   "metadata": {},
   "source": [
    "## Data generation"
   ]
  },
  {
   "cell_type": "code",
   "execution_count": 212,
   "id": "cb60238f",
   "metadata": {},
   "outputs": [
    {
     "name": "stdout",
     "output_type": "stream",
     "text": [
      "Number of inliers in training/calibration data: 250.\n",
      "Number of outliers in training/calibration data: 250.\n",
      "Number of inliers in test data: 1000.\n",
      "Number of outliers in test data: 1000.\n"
     ]
    }
   ],
   "source": [
    "from models import GaussianMixture, ConcentricCircles, ConcentricCircles2, ConcentricCirclesMixture, BinomialModel\n",
    "\n",
    "random_state = 2022\n",
    "\n",
    "model_name = \"circles-mix\"\n",
    "\n",
    "if model_name == \"GaussianMixture\":\n",
    "    p = 20        # Number of features\n",
    "    a = 0.25         # Signal amplitude\n",
    "    model = GaussianMixture(p, a, random_state=random_state)\n",
    "    purity = 0.8    # Proportion of inliers\n",
    "    n = 1000          # Number of observations\n",
    "    \n",
    "elif model_name == \"circles-mix\":\n",
    "    p = 1000        # Number of features\n",
    "    a = 0.5        # Signal amplitude\n",
    "    model = ConcentricCirclesMixture(p, a, random_state=random_state)\n",
    "    purity = 0.5      # Proportion of inliers\n",
    "    n = 500          # Number of observations\n",
    "\n",
    "elif model_name == \"circles\":\n",
    "    p = 1000        # Number of features\n",
    "    a = 0.99        # Signal amplitude\n",
    "    model = ConcentricCircles(p, a, random_state=random_state)\n",
    "    purity = 0.9      # Proportion of inliers\n",
    "    n = 1000          # Number of observations\n",
    "    \n",
    "elif model_name == \"BinomialModel\":\n",
    "    p = 100        # Number of features\n",
    "    a = 3          # Signal amplitude\n",
    "    model = BinomialModel(p, a, random_state=random_state)\n",
    "    purity = 0.9     # Proportion of inliers\n",
    "    n = 1000          # Number of observations\n",
    "    \n",
    "else:\n",
    "    print(\"Error: unknown model name!\")\n",
    "    \n",
    "    \n",
    "n_test = 2000     # Number of test points\n",
    "purity_test = 0.5 # Proportion of inliers in test set\n",
    "\n",
    "X, Y = model.sample(n, purity)\n",
    "X_test, Y_test = model.sample(n_test, purity)\n",
    "\n",
    "print(\"Number of inliers in training/calibration data: {}.\".format(np.sum(Y==0)))\n",
    "print(\"Number of outliers in training/calibration data: {}.\".format(np.sum(Y==1)))\n",
    "\n",
    "print(\"Number of inliers in test data: {}.\".format(np.sum(Y_test==0)))\n",
    "print(\"Number of outliers in test data: {}.\".format(np.sum(Y_test==1)))"
   ]
  },
  {
   "cell_type": "markdown",
   "id": "e3a7b303",
   "metadata": {},
   "source": [
    "## Conformal p-values via one-class classification"
   ]
  },
  {
   "cell_type": "code",
   "execution_count": 213,
   "id": "60f3cd51",
   "metadata": {},
   "outputs": [],
   "source": [
    "# Define list of possible one-class classifiers with desired hyper-parameters\n",
    "bbox_occ_list = [svm.OneClassSVM(kernel='rbf', degree=3),\n",
    "                 svm.OneClassSVM(kernel='sigmoid', degree=3),\n",
    "                 svm.OneClassSVM(kernel='poly', degree=3),\n",
    "                 IsolationForest(contamination = 'auto', random_state=random_state),\n",
    "                 LocalOutlierFactor(contamination='auto', novelty=True)\n",
    "               ]\n",
    "\n",
    "# Choose a one-class classifier algorithm\n",
    "bbox_occ = bbox_occ_list[0]"
   ]
  },
  {
   "cell_type": "code",
   "execution_count": 214,
   "id": "7aeacb08",
   "metadata": {},
   "outputs": [
    {
     "name": "stdout",
     "output_type": "stream",
     "text": [
      "Fitting the black-box model on 125 data points... done.\n",
      "Calculating conformity scores for 125 hold-out data points... done.\n",
      "Calculating conformity scores for 2000 test points... done.\n"
     ]
    },
    {
     "data": {
      "image/png": "[encoded data removed]",
      "text/plain": [
       "<Figure size 504x216 with 2 Axes>"
      ]
     },
     "metadata": {
      "needs_background": "light"
     },
     "output_type": "display_data"
    }
   ],
   "source": [
    "from methods_split import OneClassConformal\n",
    "\n",
    "# Extract the inliers from the data\n",
    "X_in = X[Y==0]\n",
    "\n",
    "# Compute the p-values\n",
    "method_oneclass = OneClassConformal(X_in, bbox_occ, calib_size=0.5)\n",
    "pvals_oneclass = method_oneclass.compute_pvalues(X_test)\n",
    "\n",
    "## Plot the p-values\n",
    "fig, axs = plt.subplots(1,2, figsize=(7,3))\n",
    "fig.tight_layout()\n",
    "plt.subplots_adjust(wspace=0.3)\n",
    "axs[0].hist(pvals_oneclass[Y_test==0], color=\"blue\")\n",
    "axs[1].hist(pvals_oneclass[Y_test==1], color=\"red\")  \n",
    "axs[0].title.set_text('Inliers')\n",
    "axs[1].title.set_text('Outliers')\n",
    "axs[0].set_xlim(0,1)\n",
    "axs[1].set_xlim(0,1)\n",
    "plt.show()"
   ]
  },
  {
   "cell_type": "markdown",
   "id": "08b06ad7",
   "metadata": {},
   "source": [
    "## Conformal p-values via weighted one-class classification"
   ]
  },
  {
   "cell_type": "code",
   "execution_count": 221,
   "id": "fe5e9b2b",
   "metadata": {},
   "outputs": [
    {
     "name": "stdout",
     "output_type": "stream",
     "text": [
      "Fitting a one-class classification model on 125 data points... done.\n",
      "Fitting a one-class classification model on 125 data points... done.\n"
     ]
    },
    {
     "name": "stderr",
     "output_type": "stream",
     "text": [
      "100%|██████████| 2000/2000 [00:01<00:00, 1401.57it/s]\n"
     ]
    },
    {
     "data": {
      "image/png": "[encoded data removed]",
      "text/plain": [
       "<Figure size 504x216 with 2 Axes>"
      ]
     },
     "metadata": {
      "needs_background": "light"
     },
     "output_type": "display_data"
    },
    {
     "data": {
      "image/png": "[encoded data removed]",
      "text/plain": [
       "<Figure size 504x432 with 4 Axes>"
      ]
     },
     "metadata": {
      "needs_background": "light"
     },
     "output_type": "display_data"
    },
    {
     "data": {
      "text/plain": [
       "0.05916666666666667"
      ]
     },
     "execution_count": 221,
     "metadata": {},
     "output_type": "execute_result"
    }
   ],
   "source": [
    "from methods_split import WeightedOneClassConformal\n",
    "from sklearn.linear_model import SGDOneClassSVM\n",
    "\n",
    "# Extract the inliers from the data\n",
    "X_in = X[Y==0]\n",
    "X_out = X[Y==1]\n",
    "\n",
    "# Choose a family of one-class classifiers\n",
    "bboxes_one_in = [svm.OneClassSVM(kernel='rbf', gamma=0.001)\n",
    "               ]\n",
    "bboxes_one_out = [svm.OneClassSVM(kernel='rbf', gamma=0.001)\n",
    "                ] \n",
    "\n",
    "# Compute the p-values\n",
    "method_woc = WeightedOneClassConformal(X_in, X_out, bboxes_one=bboxes_one_in, bboxes_one_out=bboxes_one_out,\n",
    "                                       calib_size=0.5, tuning=True)\n",
    "pvals_woneclass, pvals_woneclass_0, pvals_woneclass_1 = method_woc.compute_pvalues(X_test, return_prepvals=True)\n",
    "\n",
    "## Plot the p-values\n",
    "fig, axs = plt.subplots(1,2, figsize=(7,3))\n",
    "fig.tight_layout()\n",
    "plt.subplots_adjust(wspace=0.3)\n",
    "axs[0].hist(pvals_woneclass[Y_test==0], color=\"blue\")\n",
    "axs[1].hist(pvals_woneclass[Y_test==1], color=\"red\")  \n",
    "axs[0].title.set_text('Inliers')\n",
    "axs[1].title.set_text('Outliers')\n",
    "axs[0].set_xlim(0,1)\n",
    "axs[1].set_xlim(0,1)\n",
    "plt.show()\n",
    "\n",
    "## Plot the preliminary p-values\n",
    "fig, axs = plt.subplots(2,2, figsize=(7,6))\n",
    "fig.tight_layout()\n",
    "plt.subplots_adjust(wspace=0.3)\n",
    "axs[0,0].hist(pvals_woneclass_0[Y_test==0], color=\"blue\")\n",
    "axs[0,1].hist(pvals_woneclass_0[Y_test==1], color=\"red\")  \n",
    "axs[1,0].hist(pvals_woneclass_1[Y_test==0], color=\"red\")\n",
    "axs[1,1].hist(pvals_woneclass_1[Y_test==1], color=\"blue\")  \n",
    "axs[0,0].title.set_text('H0: Inliers')\n",
    "axs[0,1].title.set_text('H0: Outliers')\n",
    "axs[1,0].title.set_text('H1: Inliers')\n",
    "axs[1,1].title.set_text('H1: Outliers')\n",
    "axs[0,0].set_xlim(0,1)\n",
    "axs[0,1].set_xlim(0,1)\n",
    "axs[1,0].set_xlim(0,1)\n",
    "axs[1,1].set_xlim(0,1)\n",
    "plt.show()\n",
    "\n",
    "np.mean(pvals_woneclass[Y_test==1])"
   ]
  },
  {
   "cell_type": "code",
   "execution_count": 222,
   "id": "37181d26",
   "metadata": {},
   "outputs": [
    {
     "name": "stdout",
     "output_type": "stream",
     "text": [
      "E_u1_Y0 = 0.121; RHS 0.207\n"
     ]
    }
   ],
   "source": [
    "# Expected value of U1 under Y=0\n",
    "E_u1_Y0 = np.mean(pvals_woneclass_1[Y_test==0])\n",
    "\n",
    "n1 = int(0.5*X_out.shape[0]) \n",
    "RHS = 1/np.log(n1+1)\n",
    "\n",
    "print(\"E_u1_Y0 = {:.3f}; RHS {:.3f}\".format(E_u1_Y0, RHS))"
   ]
  },
  {
   "cell_type": "code",
   "execution_count": null,
   "id": "5791dd57",
   "metadata": {},
   "outputs": [],
   "source": []
  },
  {
   "cell_type": "code",
   "execution_count": 223,
   "id": "57137e04",
   "metadata": {},
   "outputs": [
    {
     "data": {
      "image/png": "[encoded data removed]",
      "text/plain": [
       "<Figure size 800x400 with 2 Axes>"
      ]
     },
     "metadata": {
      "needs_background": "light"
     },
     "output_type": "display_data"
    }
   ],
   "source": [
    "def qq_plot(data, reference, ax, color=None, label=None, logarithm=False):\n",
    "    sample_size = len(data)\n",
    "    qq = np.ones([sample_size, 2])\n",
    "    np.random.shuffle(data)\n",
    "    qq[:, 0] = np.sort(reference)\n",
    "    qq[:, 1] = np.sort(data[0:sample_size])\n",
    "    if color is None:\n",
    "        ax.plot(qq[:,0], qq[:,1], label=label, alpha=0.75)\n",
    "    else:\n",
    "        ax.plot(qq[:,0], qq[:,1], color=color, label=label, alpha=0.75)\n",
    "    ax.plot([0,1], [0,1], color=\"black\", linewidth=0.75, linestyle=\"dashed\")\n",
    "    ax.set_xlabel(\"Theoretical (uniform)\")\n",
    "    ax.set_ylabel(\"Empirical\")\n",
    "    if logarithm:\n",
    "        ax.set_xscale('log')\n",
    "        ax.set_yscale('log')        \n",
    "        \n",
    "fig, axs = plt.subplots(1,2, figsize=(8,4), dpi= 100)\n",
    "\n",
    "logarithm = False\n",
    "U = np.random.uniform(size = (len(Y_test),))\n",
    "for y in [0,1]:\n",
    "    qq_plot(pvals_woneclass[Y_test==y], U[Y_test==y], axs[y], label=\"Integrative\", color='#9400d3',\n",
    "            logarithm=logarithm)\n",
    "    qq_plot(pvals_woneclass_0[Y_test==y], U[Y_test==y], axs[y], label=\"One-class\", color='red',\n",
    "            logarithm=logarithm)\n",
    "\n",
    "plt.legend()\n",
    "plt.show()"
   ]
  },
  {
   "cell_type": "code",
   "execution_count": null,
   "id": "65335008",
   "metadata": {},
   "outputs": [],
   "source": []
  }
 ],
 "metadata": {
  "kernelspec": {
   "display_name": "Python 3",
   "language": "python",
   "name": "python3"
  },
  "language_info": {
   "codemirror_mode": {
    "name": "ipython",
    "version": 3
   },
   "file_extension": ".py",
   "mimetype": "text/x-python",
   "name": "python",
   "nbconvert_exporter": "python",
   "pygments_lexer": "ipython3",
   "version": "3.8.10"
  }
 },
 "nbformat": 4,
 "nbformat_minor": 5
}
